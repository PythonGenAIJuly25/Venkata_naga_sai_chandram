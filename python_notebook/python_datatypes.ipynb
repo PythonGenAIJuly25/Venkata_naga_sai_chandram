{
 "cells": [
  {
   "cell_type": "markdown",
   "id": "688ab370",
   "metadata": {},
   "source": [
    "## List"
   ]
  },
  {
   "cell_type": "code",
   "execution_count": 10,
   "id": "0c0fddf4",
   "metadata": {},
   "outputs": [
    {
     "data": {
      "text/plain": [
       "['apples', 1, True, 20.5]"
      ]
     },
     "execution_count": 10,
     "metadata": {},
     "output_type": "execute_result"
    }
   ],
   "source": [
    "lists = [\"apples\", 1, True, 20.5]\n",
    "lists"
   ]
  },
  {
   "cell_type": "code",
   "execution_count": 12,
   "id": "7ea31d69",
   "metadata": {},
   "outputs": [
    {
     "data": {
      "text/plain": [
       "['apples', 99, True, 20.5]"
      ]
     },
     "execution_count": 12,
     "metadata": {},
     "output_type": "execute_result"
    }
   ],
   "source": [
    "lists[1] = 99\n",
    "lists\n"
   ]
  },
  {
   "cell_type": "code",
   "execution_count": 13,
   "id": "9d8e082e",
   "metadata": {},
   "outputs": [
    {
     "name": "stdout",
     "output_type": "stream",
     "text": [
      "[]\n",
      "<class 'list'>\n"
     ]
    }
   ],
   "source": [
    "## creating an empty list\n",
    "\n",
    "empty = []\n",
    "print(empty)\n",
    "print(type(empty))"
   ]
  },
  {
   "cell_type": "code",
   "execution_count": 16,
   "id": "a9434c85",
   "metadata": {},
   "outputs": [
    {
     "data": {
      "text/plain": [
       "['apples', 99, True, 20.5]"
      ]
     },
     "execution_count": 16,
     "metadata": {},
     "output_type": "execute_result"
    }
   ],
   "source": [
    "lists\n"
   ]
  },
  {
   "cell_type": "code",
   "execution_count": 17,
   "id": "cd9e900b",
   "metadata": {},
   "outputs": [
    {
     "name": "stdout",
     "output_type": "stream",
     "text": [
      "apples\n",
      "True\n"
     ]
    }
   ],
   "source": [
    "print(lists[0])\n",
    "print(lists[2])"
   ]
  },
  {
   "cell_type": "code",
   "execution_count": 18,
   "id": "fd6fb3ab",
   "metadata": {},
   "outputs": [
    {
     "name": "stdout",
     "output_type": "stream",
     "text": [
      "20.5\n",
      "True\n",
      "apples\n"
     ]
    }
   ],
   "source": [
    "print(lists[-1])\n",
    "print(lists[-2])\n",
    "print(lists[-4])"
   ]
  },
  {
   "cell_type": "code",
   "execution_count": 23,
   "id": "71b22b58",
   "metadata": {},
   "outputs": [
    {
     "name": "stdout",
     "output_type": "stream",
     "text": [
      "['apples', 99, True, 20.5]\n",
      "[99, True, 20.5]\n",
      "['apples', 99, True, 20.5]\n"
     ]
    }
   ],
   "source": [
    "print(lists)\n",
    "print(lists[1:40])\n",
    "print(lists[0:30])\n"
   ]
  },
  {
   "cell_type": "code",
   "execution_count": 24,
   "id": "cef70a4a",
   "metadata": {},
   "outputs": [
    {
     "name": "stdout",
     "output_type": "stream",
     "text": [
      "['apples', 99, True, 20.5]\n"
     ]
    }
   ],
   "source": [
    "print(lists[::])"
   ]
  },
  {
   "cell_type": "code",
   "execution_count": 5,
   "id": "e8003f1a",
   "metadata": {},
   "outputs": [
    {
     "data": {
      "text/plain": [
       "['apples', 1, True, 20.5]"
      ]
     },
     "execution_count": 5,
     "metadata": {},
     "output_type": "execute_result"
    }
   ],
   "source": [
    "lists = [\"apples\", 1, True, 20.5]\n",
    "lists"
   ]
  },
  {
   "cell_type": "code",
   "execution_count": 6,
   "id": "e625eab9",
   "metadata": {},
   "outputs": [
    {
     "data": {
      "text/plain": [
       "[20.5, True, 1, 'apples']"
      ]
     },
     "execution_count": 6,
     "metadata": {},
     "output_type": "execute_result"
    }
   ],
   "source": [
    "lists[::-1]"
   ]
  },
  {
   "cell_type": "markdown",
   "id": "7819c662",
   "metadata": {},
   "source": [
    "### list methods"
   ]
  },
  {
   "cell_type": "code",
   "execution_count": 7,
   "id": "3bdb2cee",
   "metadata": {},
   "outputs": [
    {
     "data": {
      "text/plain": [
       "['apples', 1, True, 20.5, 'sai']"
      ]
     },
     "execution_count": 7,
     "metadata": {},
     "output_type": "execute_result"
    }
   ],
   "source": [
    "lists.append(\"sai\")\n",
    "lists"
   ]
  },
  {
   "cell_type": "code",
   "execution_count": 8,
   "id": "ab57fcf9",
   "metadata": {},
   "outputs": [
    {
     "data": {
      "text/plain": [
       "['apples', 99, 1, True, 20.5, 'sai']"
      ]
     },
     "execution_count": 8,
     "metadata": {},
     "output_type": "execute_result"
    }
   ],
   "source": [
    "lists.insert(1,99)\n",
    "lists"
   ]
  },
  {
   "cell_type": "code",
   "execution_count": 10,
   "id": "5c129315",
   "metadata": {},
   "outputs": [
    {
     "data": {
      "text/plain": [
       "['apples', 99, 1, True, 20.5, 'sai', 99, 99]"
      ]
     },
     "execution_count": 10,
     "metadata": {},
     "output_type": "execute_result"
    }
   ],
   "source": [
    "lists.append(99)\n",
    "lists"
   ]
  },
  {
   "cell_type": "code",
   "execution_count": 11,
   "id": "9de0ae8f",
   "metadata": {},
   "outputs": [],
   "source": [
    "lists.remove(99)"
   ]
  },
  {
   "cell_type": "code",
   "execution_count": 12,
   "id": "f7e2df03",
   "metadata": {},
   "outputs": [
    {
     "data": {
      "text/plain": [
       "['apples', 1, True, 20.5, 'sai', 99, 99]"
      ]
     },
     "execution_count": 12,
     "metadata": {},
     "output_type": "execute_result"
    }
   ],
   "source": [
    "lists"
   ]
  },
  {
   "cell_type": "code",
   "execution_count": null,
   "id": "0bb0e7d4",
   "metadata": {},
   "outputs": [
    {
     "data": {
      "text/plain": [
       "['apples', 1, True, 20.5, 'sai', 99]"
      ]
     },
     "execution_count": 13,
     "metadata": {},
     "output_type": "execute_result"
    }
   ],
   "source": [
    "lists.remove(99)  # removes an value\n",
    "lists"
   ]
  },
  {
   "cell_type": "code",
   "execution_count": null,
   "id": "b5b012b6",
   "metadata": {},
   "outputs": [
    {
     "data": {
      "text/plain": [
       "['apples', 1, True, 20.5, 'sai']"
      ]
     },
     "execution_count": 14,
     "metadata": {},
     "output_type": "execute_result"
    }
   ],
   "source": [
    "lists.pop()  # pop means it removes the last element if we dont mention index number\n",
    "lists"
   ]
  },
  {
   "cell_type": "code",
   "execution_count": null,
   "id": "9b739d4d",
   "metadata": {},
   "outputs": [
    {
     "data": {
      "text/plain": [
       "['apples', 1, True, 20.5]"
      ]
     },
     "execution_count": 15,
     "metadata": {},
     "output_type": "execute_result"
    }
   ],
   "source": [
    "lists.pop(4)  # it removes the 4th index value\n",
    "lists"
   ]
  },
  {
   "cell_type": "code",
   "execution_count": 23,
   "id": "e62baf11",
   "metadata": {},
   "outputs": [
    {
     "name": "stdout",
     "output_type": "stream",
     "text": [
      "3\n",
      "0\n"
     ]
    }
   ],
   "source": [
    "# index(value, start=0)\n",
    "\n",
    "print(lists.index(20.5))  # it returns the index value\n",
    "print(lists.index('apples'))"
   ]
  },
  {
   "cell_type": "code",
   "execution_count": null,
   "id": "d58e3307",
   "metadata": {},
   "outputs": [
    {
     "name": "stdout",
     "output_type": "stream",
     "text": [
      "[5, 9, 1, 5, 4]\n",
      "[1, 4, 5, 5, 9]\n"
     ]
    }
   ],
   "source": [
    "lists1 = [5,9,1,5,4]\n",
    "print(lists1)\n",
    "\n",
    "lists1.sort()   # it returns the  values in ascending order if all elemetns are in same datatype \n",
    "\n",
    "print(lists1)"
   ]
  },
  {
   "cell_type": "code",
   "execution_count": null,
   "id": "c3251d67",
   "metadata": {},
   "outputs": [
    {
     "name": "stdout",
     "output_type": "stream",
     "text": [
      "[9, 5, 5, 4, 1]\n"
     ]
    }
   ],
   "source": [
    "lists1.sort(reverse=True)  # it returns the values in descending order\n",
    "print(lists1)"
   ]
  },
  {
   "cell_type": "code",
   "execution_count": 34,
   "id": "4d9fb45c",
   "metadata": {},
   "outputs": [
    {
     "name": "stdout",
     "output_type": "stream",
     "text": [
      "[9, 5, 5, 4, 1]\n",
      "[9, 5, 5, 4, 1]\n"
     ]
    }
   ],
   "source": [
    "copied = lists1.copy()\n",
    "\n",
    "print(lists1)\n",
    "print(copied)"
   ]
  },
  {
   "cell_type": "code",
   "execution_count": null,
   "id": "34a37289",
   "metadata": {},
   "outputs": [
    {
     "name": "stdout",
     "output_type": "stream",
     "text": [
      "[9, 5, 5, 4, 1]\n",
      "2\n"
     ]
    }
   ],
   "source": [
    "print(lists1)\n",
    "\n",
    "print(lists1.count(5)) # it returns the number of elements in specified value \n"
   ]
  },
  {
   "cell_type": "code",
   "execution_count": null,
   "id": "e420cbd6",
   "metadata": {},
   "outputs": [
    {
     "name": "stdout",
     "output_type": "stream",
     "text": [
      "[1, 2, 3, 4, 5]\n"
     ]
    }
   ],
   "source": [
    "a = [1,2]\n",
    "b = [3,4,5]\n",
    "\n",
    "a.extend(b)   # used to add multiple elements to the end of a list\n",
    "print(a)\n"
   ]
  },
  {
   "cell_type": "code",
   "execution_count": 40,
   "id": "9e9c21e8",
   "metadata": {},
   "outputs": [
    {
     "name": "stdout",
     "output_type": "stream",
     "text": [
      "[5, 6, 'sai', 'ganesh']\n"
     ]
    }
   ],
   "source": [
    "c = [5,6]\n",
    "d = [\"sai\", \"ganesh\"]\n",
    "\n",
    "c.extend(d)\n",
    "print(c)"
   ]
  },
  {
   "cell_type": "code",
   "execution_count": 43,
   "id": "95b481da",
   "metadata": {},
   "outputs": [
    {
     "name": "stdout",
     "output_type": "stream",
     "text": [
      "['sai', 5, 6]\n"
     ]
    }
   ],
   "source": [
    "e = [5,6]\n",
    "f = [\"sai\"]\n",
    "\n",
    "f.extend(e)\n",
    "print(f)"
   ]
  },
  {
   "cell_type": "code",
   "execution_count": 44,
   "id": "2e801476",
   "metadata": {},
   "outputs": [
    {
     "name": "stdout",
     "output_type": "stream",
     "text": [
      "[9, 5, 5, 4, 1]\n",
      "[1, 4, 5, 5, 9]\n"
     ]
    }
   ],
   "source": [
    "print(lists1)\n",
    "\n",
    "lists1.reverse()\n",
    "print(lists1)"
   ]
  },
  {
   "cell_type": "code",
   "execution_count": 52,
   "id": "7347e8cb",
   "metadata": {},
   "outputs": [
    {
     "name": "stdout",
     "output_type": "stream",
     "text": [
      "[3, 4, 5]\n",
      "[6, 7, 8, 9, 10]\n",
      "[1, 2, 3, 4, 5]\n",
      "[1, 2, 3, 4, 5, 6, 7, 8, 9, 10]\n",
      "[7, 8, 9, 10]\n",
      "[10, 9, 8, 7, 6, 5, 4, 3, 2, 1]\n",
      "[1, 3, 5, 7, 9]\n"
     ]
    }
   ],
   "source": [
    "# slicing list [start: stop: step] default value of step is 1, \n",
    "\n",
    "numbers = [1,2,3,4,5,6,7,8,9,10]\n",
    "\n",
    "print(numbers[2:5])\n",
    "print(numbers[5:])\n",
    "print(numbers[:5])\n",
    "print(numbers[::])\n",
    "print(numbers[-4:])\n",
    "print(numbers[::-1])\n",
    "print(numbers[::2])"
   ]
  },
  {
   "cell_type": "code",
   "execution_count": null,
   "id": "3ef82afd",
   "metadata": {},
   "outputs": [
    {
     "name": "stdout",
     "output_type": "stream",
     "text": [
      "0 1\n",
      "1 4\n",
      "2 5\n",
      "3 5\n",
      "4 9\n"
     ]
    }
   ],
   "source": [
    "# enumurate  : adds a counter (index) to an iterable (like a list, string, tuple, etc.) and returns it as an enumerate object.\n",
    "# enumerate(iterable, start = 0(default))\n",
    "for i, value in enumerate(lists1):\n",
    "    print(i, value)"
   ]
  },
  {
   "cell_type": "code",
   "execution_count": 59,
   "id": "a4973623",
   "metadata": {},
   "outputs": [
    {
     "name": "stdout",
     "output_type": "stream",
     "text": [
      "1 apples\n",
      "2 orange\n",
      "3 banana\n"
     ]
    }
   ],
   "source": [
    "fruits = ['apples','orange','banana']\n",
    "\n",
    "for index, fruit in enumerate(fruits, start=1):\n",
    "    print(index, fruit)"
   ]
  },
  {
   "cell_type": "code",
   "execution_count": 60,
   "id": "5327a6e5",
   "metadata": {},
   "outputs": [
    {
     "name": "stdout",
     "output_type": "stream",
     "text": [
      "[0, 1, 4, 9, 16]\n"
     ]
    }
   ],
   "source": [
    "# list comprehensions\n",
    "\n",
    "## without list comprehensions(convensional way)\n",
    "\n",
    "squares = []\n",
    "\n",
    "for i in range(5):\n",
    "    squares.append(i * i)\n",
    "print(squares)"
   ]
  },
  {
   "cell_type": "code",
   "execution_count": 65,
   "id": "620e8a58",
   "metadata": {},
   "outputs": [
    {
     "name": "stdout",
     "output_type": "stream",
     "text": [
      "[1, 4, 9, 16, 25]\n"
     ]
    }
   ],
   "source": [
    "## simple way(with comprehension)\n",
    "\n",
    "squares1 = [i * i for i in range(1, 6)]\n",
    "print(squares1)\n",
    "\n"
   ]
  },
  {
   "cell_type": "code",
   "execution_count": 66,
   "id": "2db404a7",
   "metadata": {},
   "outputs": [
    {
     "name": "stdout",
     "output_type": "stream",
     "text": [
      "[2, 4, 6, 8, 10]\n"
     ]
    }
   ],
   "source": [
    "even = [i for i in range(1, 11) if i % 2 == 0]\n",
    "print(even)"
   ]
  },
  {
   "cell_type": "code",
   "execution_count": 69,
   "id": "85e5885f",
   "metadata": {},
   "outputs": [
    {
     "name": "stdout",
     "output_type": "stream",
     "text": [
      "['apples', 'orange', 'banana']\n",
      "['APPLES', 'ORANGE', 'BANANA']\n"
     ]
    }
   ],
   "source": [
    "print(fruits)\n",
    "\n",
    "uppercase = [fruit.upper() for fruit in fruits]\n",
    "print(uppercase)"
   ]
  },
  {
   "cell_type": "code",
   "execution_count": 78,
   "id": "270bffe2",
   "metadata": {},
   "outputs": [
    {
     "name": "stdout",
     "output_type": "stream",
     "text": [
      "['apples', 'orange', 'banana']\n"
     ]
    }
   ],
   "source": [
    "fruit_length = [i for i in fruits]\n",
    "print(fruit_length)"
   ]
  },
  {
   "cell_type": "code",
   "execution_count": 84,
   "id": "70807afc",
   "metadata": {},
   "outputs": [
    {
     "name": "stdout",
     "output_type": "stream",
     "text": [
      "[(1, 4), (1, 5), (1, 6), (2, 4), (2, 5), (2, 6), (3, 4), (3, 5), (3, 6)]\n"
     ]
    }
   ],
   "source": [
    "list1 = [1,2,3]\n",
    "list2 = [4,5,6]\n",
    "\n",
    "nested_list = [(i,j) for i in list1 for j in list2]\n",
    "print(nested_list)"
   ]
  },
  {
   "cell_type": "markdown",
   "id": "3423d2f0",
   "metadata": {},
   "source": [
    "## Tuple"
   ]
  },
  {
   "cell_type": "code",
   "execution_count": 86,
   "id": "9179ec1e",
   "metadata": {},
   "outputs": [
    {
     "name": "stdout",
     "output_type": "stream",
     "text": [
      "(1, 2, 3, 4, 5, 6, 7, 8, 9, 10)\n"
     ]
    }
   ],
   "source": [
    "numbers = tuple(range(1, 11))\n",
    "print(numbers)"
   ]
  },
  {
   "cell_type": "code",
   "execution_count": 88,
   "id": "350d1006",
   "metadata": {},
   "outputs": [
    {
     "name": "stdout",
     "output_type": "stream",
     "text": [
      "(1, 2, 3, 4, 5, 2)\n",
      "<class 'tuple'>\n"
     ]
    }
   ],
   "source": [
    "numbers1 = (1,2,3,4,5,2)\n",
    "print(numbers1)\n",
    "print(type(numbers1))"
   ]
  },
  {
   "cell_type": "code",
   "execution_count": 89,
   "id": "0c580227",
   "metadata": {},
   "outputs": [
    {
     "data": {
      "text/plain": [
       "2"
      ]
     },
     "execution_count": 89,
     "metadata": {},
     "output_type": "execute_result"
    }
   ],
   "source": [
    "numbers1.count(2)"
   ]
  },
  {
   "cell_type": "code",
   "execution_count": 92,
   "id": "bb4076ee",
   "metadata": {},
   "outputs": [
    {
     "data": {
      "text/plain": [
       "1"
      ]
     },
     "execution_count": 92,
     "metadata": {},
     "output_type": "execute_result"
    }
   ],
   "source": [
    "numbers1.index(2)"
   ]
  },
  {
   "cell_type": "code",
   "execution_count": 93,
   "id": "00f2e4d0",
   "metadata": {},
   "outputs": [
    {
     "name": "stdout",
     "output_type": "stream",
     "text": [
      "(1, 5, 'sai', True, 20.5)\n",
      "<class 'tuple'>\n"
     ]
    }
   ],
   "source": [
    "#packing tuple\n",
    "\n",
    "my_tuple = 1,5,\"sai\",True,20.5\n",
    "\n",
    "print(my_tuple)\n",
    "print(type(my_tuple))"
   ]
  },
  {
   "cell_type": "code",
   "execution_count": null,
   "id": "4e1bb92e",
   "metadata": {},
   "outputs": [
    {
     "name": "stdout",
     "output_type": "stream",
     "text": [
      "1\n",
      "5\n",
      "sai\n"
     ]
    }
   ],
   "source": [
    "# unpacking\n",
    "\n",
    "a,b,c,d,e = my_tuple\n",
    "print(a)\n",
    "print(b)\n",
    "print(c)"
   ]
  },
  {
   "cell_type": "code",
   "execution_count": 102,
   "id": "f100c829",
   "metadata": {},
   "outputs": [
    {
     "name": "stdout",
     "output_type": "stream",
     "text": [
      "1\n",
      "[2, 3, 4, 5, 6, 7, 8, 9]\n",
      "10\n"
     ]
    }
   ],
   "source": [
    "# unpacking with *\n",
    "\n",
    "first, *middle, last = numbers\n",
    "print(first)\n",
    "print(middle)\n",
    "print(last)"
   ]
  },
  {
   "cell_type": "markdown",
   "id": "7b551ae0",
   "metadata": {},
   "source": [
    "## sets"
   ]
  },
  {
   "cell_type": "code",
   "execution_count": 170,
   "id": "2b3c8a29",
   "metadata": {},
   "outputs": [
    {
     "name": "stdout",
     "output_type": "stream",
     "text": [
      "{1, 2, 3}\n",
      "<class 'set'>\n"
     ]
    }
   ],
   "source": [
    "my_set = {1,2,3}\n",
    "print(my_set)\n",
    "print(type(my_set))"
   ]
  },
  {
   "cell_type": "code",
   "execution_count": 171,
   "id": "c3b2acc7",
   "metadata": {},
   "outputs": [
    {
     "name": "stdout",
     "output_type": "stream",
     "text": [
      "{1, 2, 3, 4, 5}\n",
      "<class 'set'>\n"
     ]
    }
   ],
   "source": [
    "my_set1 = set(range(1,6))\n",
    "print(my_set1)\n",
    "print(type(my_set1))"
   ]
  },
  {
   "cell_type": "code",
   "execution_count": 172,
   "id": "5217b7ce",
   "metadata": {},
   "outputs": [
    {
     "name": "stdout",
     "output_type": "stream",
     "text": [
      "{1, 2, 3, 4, 6, 7}\n"
     ]
    }
   ],
   "source": [
    "dup_set = {1,2,4,6,3,7,2,2,2,4}\n",
    "\n",
    "print(dup_set)"
   ]
  },
  {
   "cell_type": "code",
   "execution_count": 173,
   "id": "bc7b33d3",
   "metadata": {},
   "outputs": [
    {
     "name": "stdout",
     "output_type": "stream",
     "text": [
      "{1, 2, 3}\n",
      "{1, 2, 3, 20}\n",
      "{1, 2, 3, 20, 30}\n"
     ]
    }
   ],
   "source": [
    "print(my_set)\n",
    "\n",
    "my_set.add(20)\n",
    "print(my_set)\n",
    "\n",
    "my_set.add(30)\n",
    "print(my_set)"
   ]
  },
  {
   "cell_type": "code",
   "execution_count": 195,
   "id": "fe09cf41",
   "metadata": {},
   "outputs": [
    {
     "name": "stdout",
     "output_type": "stream",
     "text": [
      "{2, 20, 30}\n",
      "{20, 30}\n"
     ]
    }
   ],
   "source": [
    "print(my_set)\n",
    "\n",
    "my_set.remove(2)\n",
    "print(my_set)"
   ]
  },
  {
   "cell_type": "code",
   "execution_count": 175,
   "id": "0b8f76fe",
   "metadata": {},
   "outputs": [
    {
     "name": "stdout",
     "output_type": "stream",
     "text": [
      "{1, 2, 20, 30}\n",
      "{2, 20, 30}\n"
     ]
    }
   ],
   "source": [
    "print(my_set)\n",
    "\n",
    "my_set.pop()\n",
    "print(my_set)\n"
   ]
  },
  {
   "cell_type": "code",
   "execution_count": 176,
   "id": "2c4ff639",
   "metadata": {},
   "outputs": [
    {
     "name": "stdout",
     "output_type": "stream",
     "text": [
      "{1, 2, 3, 4, 5, 6, 7, 8, 9}\n",
      "{4, 5, 6}\n",
      "{1, 2, 3}\n",
      "{8, 9, 7}\n",
      "{1, 2, 3, 7, 8, 9}\n"
     ]
    }
   ],
   "source": [
    "set1 = {1,2,3,4,5,6}\n",
    "set2 = {4,5,6,7,8,9}\n",
    "\n",
    "union_set = set1.union(set2)\n",
    "print(union_set)\n",
    "\n",
    "intersection_set = set1.intersection(set2)\n",
    "print(intersection_set)\n",
    "\n",
    "differenc_set = set1.difference(set2)\n",
    "print(differenc_set)\n",
    "differenc_set1 = set2.difference(set1)\n",
    "print(differenc_set1)\n",
    "\n",
    "symmetric_set = set1.symmetric_difference(set2)\n",
    "print(symmetric_set)"
   ]
  },
  {
   "cell_type": "markdown",
   "id": "6f54d565",
   "metadata": {},
   "source": [
    "## Dict"
   ]
  },
  {
   "cell_type": "code",
   "execution_count": 177,
   "id": "607d7b49",
   "metadata": {},
   "outputs": [
    {
     "name": "stdout",
     "output_type": "stream",
     "text": [
      "{}\n",
      "<class 'dict'>\n"
     ]
    }
   ],
   "source": [
    "my_dict = {}\n",
    "print(my_dict)\n",
    "print(type(my_dict))"
   ]
  },
  {
   "cell_type": "code",
   "execution_count": 178,
   "id": "78a07ff5",
   "metadata": {},
   "outputs": [
    {
     "name": "stdout",
     "output_type": "stream",
     "text": [
      "{}\n",
      "<class 'dict'>\n"
     ]
    }
   ],
   "source": [
    "my_dict1 = dict()\n",
    "print(my_dict)\n",
    "print(type(my_dict1))"
   ]
  },
  {
   "cell_type": "code",
   "execution_count": 179,
   "id": "45ccf7f0",
   "metadata": {},
   "outputs": [
    {
     "name": "stdout",
     "output_type": "stream",
     "text": [
      "{'name': 'Sai', 'age': 25, 'marks': 90}\n"
     ]
    }
   ],
   "source": [
    "students = {\"name\":\"Sai\",\"age\":25, \"marks\":90}\n",
    "\n",
    "print(students)"
   ]
  },
  {
   "cell_type": "code",
   "execution_count": 180,
   "id": "47429922",
   "metadata": {},
   "outputs": [
    {
     "name": "stdout",
     "output_type": "stream",
     "text": [
      "Sai\n",
      "25\n"
     ]
    }
   ],
   "source": [
    "print(students[\"name\"])\n",
    "print(students[\"age\"])"
   ]
  },
  {
   "cell_type": "code",
   "execution_count": 181,
   "id": "7980d93c",
   "metadata": {},
   "outputs": [
    {
     "name": "stdout",
     "output_type": "stream",
     "text": [
      "90\n"
     ]
    }
   ],
   "source": [
    "print(students.get('marks'))"
   ]
  },
  {
   "cell_type": "code",
   "execution_count": 182,
   "id": "1cee019c",
   "metadata": {},
   "outputs": [
    {
     "name": "stdout",
     "output_type": "stream",
     "text": [
      "None\n"
     ]
    }
   ],
   "source": [
    "print(students.get('city'))"
   ]
  },
  {
   "cell_type": "code",
   "execution_count": 183,
   "id": "18193b71",
   "metadata": {},
   "outputs": [
    {
     "name": "stdout",
     "output_type": "stream",
     "text": [
      "RJY\n"
     ]
    }
   ],
   "source": [
    "print(students.get('city',\"RJY\"))"
   ]
  },
  {
   "cell_type": "code",
   "execution_count": 184,
   "id": "94be32e6",
   "metadata": {},
   "outputs": [
    {
     "name": "stdout",
     "output_type": "stream",
     "text": [
      "{'name': 'Sai', 'age': 25, 'marks': 90}\n",
      "{'name': 'sindhu', 'age': 25, 'marks': 90}\n"
     ]
    }
   ],
   "source": [
    "print(students)\n",
    "\n",
    "students['name'] = \"sindhu\"\n",
    "\n",
    "print(students)"
   ]
  },
  {
   "cell_type": "code",
   "execution_count": 185,
   "id": "77bc4045",
   "metadata": {},
   "outputs": [
    {
     "name": "stdout",
     "output_type": "stream",
     "text": [
      "{'name': 'sindhu', 'age': 25, 'marks': 90}\n",
      "{'name': 'sindhu', 'age': 25, 'marks': 90, 'city': 'vizag'}\n"
     ]
    }
   ],
   "source": [
    "print(students)\n",
    "\n",
    "students['city'] = \"vizag\"\n",
    "\n",
    "print(students)"
   ]
  },
  {
   "cell_type": "code",
   "execution_count": 186,
   "id": "97c7057a",
   "metadata": {},
   "outputs": [
    {
     "data": {
      "text/plain": [
       "dict_items([('name', 'sindhu'), ('age', 25), ('marks', 90), ('city', 'vizag')])"
      ]
     },
     "execution_count": 186,
     "metadata": {},
     "output_type": "execute_result"
    }
   ],
   "source": [
    "students.items()"
   ]
  },
  {
   "cell_type": "code",
   "execution_count": null,
   "id": "c39b4722",
   "metadata": {},
   "outputs": [
    {
     "name": "stdout",
     "output_type": "stream",
     "text": [
      "name sindhu\n",
      "age 25\n",
      "marks 90\n",
      "city vizag\n"
     ]
    }
   ],
   "source": [
    "for key in students.items():\n",
    "    print(key, value)"
   ]
  },
  {
   "cell_type": "code",
   "execution_count": 188,
   "id": "f0d3ffbf",
   "metadata": {},
   "outputs": [
    {
     "name": "stdout",
     "output_type": "stream",
     "text": [
      "{'student1': {'name': 'sai', 'age': 24}, 'student2': {'name': 'ganesh', 'age': 33}}\n"
     ]
    }
   ],
   "source": [
    "# nested dict\n",
    "\n",
    "students = {\n",
    "    \"student1\": {\"name\":\"sai\",\"age\":24},\n",
    "    \"student2\" : {\"name\":\"ganesh\", \"age\":33}\n",
    "}\n",
    "print(students)"
   ]
  },
  {
   "cell_type": "code",
   "execution_count": 189,
   "id": "93ece574",
   "metadata": {},
   "outputs": [
    {
     "name": "stdout",
     "output_type": "stream",
     "text": [
      "{'name': 'sai', 'age': 24}\n"
     ]
    }
   ],
   "source": [
    "print(students[\"student1\"])"
   ]
  },
  {
   "cell_type": "code",
   "execution_count": 190,
   "id": "ef22f7c4",
   "metadata": {},
   "outputs": [
    {
     "name": "stdout",
     "output_type": "stream",
     "text": [
      "sai\n"
     ]
    }
   ],
   "source": [
    "print(students[\"student1\"][\"name\"])"
   ]
  },
  {
   "cell_type": "code",
   "execution_count": 191,
   "id": "92dc1131",
   "metadata": {},
   "outputs": [
    {
     "name": "stdout",
     "output_type": "stream",
     "text": [
      "{'python': 'h', 'is': 'i', 'a': 'a', 'programminng': 'a', 'langauge': 'a'}\n"
     ]
    }
   ],
   "source": [
    "words = [\"python\",\"is\",\"a\",\"programminng\",\"langauge\"]\n",
    "\n",
    "res2 = {word : min(word) for word in words}\n",
    "    \n",
    "print(res2)\n"
   ]
  },
  {
   "cell_type": "code",
   "execution_count": null,
   "id": "bdf4b139",
   "metadata": {},
   "outputs": [],
   "source": []
  },
  {
   "cell_type": "code",
   "execution_count": null,
   "id": "92dbeaa7",
   "metadata": {},
   "outputs": [],
   "source": []
  }
 ],
 "metadata": {
  "kernelspec": {
   "display_name": "Python 3",
   "language": "python",
   "name": "python3"
  },
  "language_info": {
   "codemirror_mode": {
    "name": "ipython",
    "version": 3
   },
   "file_extension": ".py",
   "mimetype": "text/x-python",
   "name": "python",
   "nbconvert_exporter": "python",
   "pygments_lexer": "ipython3",
   "version": "3.13.3"
  }
 },
 "nbformat": 4,
 "nbformat_minor": 5
}
