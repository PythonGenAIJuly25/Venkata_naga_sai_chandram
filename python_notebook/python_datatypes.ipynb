{
 "cells": [
  {
   "cell_type": "markdown",
   "id": "688ab370",
   "metadata": {},
   "source": [
    "## List"
   ]
  },
  {
   "cell_type": "code",
   "execution_count": 10,
   "id": "0c0fddf4",
   "metadata": {},
   "outputs": [
    {
     "data": {
      "text/plain": [
       "['apples', 1, True, 20.5]"
      ]
     },
     "execution_count": 10,
     "metadata": {},
     "output_type": "execute_result"
    }
   ],
   "source": [
    "lists = [\"apples\", 1, True, 20.5]\n",
    "lists"
   ]
  },
  {
   "cell_type": "code",
   "execution_count": 12,
   "id": "7ea31d69",
   "metadata": {},
   "outputs": [
    {
     "data": {
      "text/plain": [
       "['apples', 99, True, 20.5]"
      ]
     },
     "execution_count": 12,
     "metadata": {},
     "output_type": "execute_result"
    }
   ],
   "source": [
    "lists[1] = 99\n",
    "lists\n"
   ]
  },
  {
   "cell_type": "code",
   "execution_count": 13,
   "id": "9d8e082e",
   "metadata": {},
   "outputs": [
    {
     "name": "stdout",
     "output_type": "stream",
     "text": [
      "[]\n",
      "<class 'list'>\n"
     ]
    }
   ],
   "source": [
    "## creating an empty list\n",
    "\n",
    "empty = []\n",
    "print(empty)\n",
    "print(type(empty))"
   ]
  },
  {
   "cell_type": "code",
   "execution_count": 16,
   "id": "a9434c85",
   "metadata": {},
   "outputs": [
    {
     "data": {
      "text/plain": [
       "['apples', 99, True, 20.5]"
      ]
     },
     "execution_count": 16,
     "metadata": {},
     "output_type": "execute_result"
    }
   ],
   "source": [
    "lists\n"
   ]
  },
  {
   "cell_type": "code",
   "execution_count": 17,
   "id": "cd9e900b",
   "metadata": {},
   "outputs": [
    {
     "name": "stdout",
     "output_type": "stream",
     "text": [
      "apples\n",
      "True\n"
     ]
    }
   ],
   "source": [
    "print(lists[0])\n",
    "print(lists[2])"
   ]
  },
  {
   "cell_type": "code",
   "execution_count": 18,
   "id": "fd6fb3ab",
   "metadata": {},
   "outputs": [
    {
     "name": "stdout",
     "output_type": "stream",
     "text": [
      "20.5\n",
      "True\n",
      "apples\n"
     ]
    }
   ],
   "source": [
    "print(lists[-1])\n",
    "print(lists[-2])\n",
    "print(lists[-4])"
   ]
  },
  {
   "cell_type": "code",
   "execution_count": 23,
   "id": "71b22b58",
   "metadata": {},
   "outputs": [
    {
     "name": "stdout",
     "output_type": "stream",
     "text": [
      "['apples', 99, True, 20.5]\n",
      "[99, True, 20.5]\n",
      "['apples', 99, True, 20.5]\n"
     ]
    }
   ],
   "source": [
    "print(lists)\n",
    "print(lists[1:40])\n",
    "print(lists[0:30])\n"
   ]
  },
  {
   "cell_type": "code",
   "execution_count": 24,
   "id": "cef70a4a",
   "metadata": {},
   "outputs": [
    {
     "name": "stdout",
     "output_type": "stream",
     "text": [
      "['apples', 99, True, 20.5]\n"
     ]
    }
   ],
   "source": [
    "print(lists[::])"
   ]
  },
  {
   "cell_type": "code",
   "execution_count": null,
   "id": "e8003f1a",
   "metadata": {},
   "outputs": [],
   "source": []
  }
 ],
 "metadata": {
  "kernelspec": {
   "display_name": "Python 3",
   "language": "python",
   "name": "python3"
  },
  "language_info": {
   "codemirror_mode": {
    "name": "ipython",
    "version": 3
   },
   "file_extension": ".py",
   "mimetype": "text/x-python",
   "name": "python",
   "nbconvert_exporter": "python",
   "pygments_lexer": "ipython3",
   "version": "3.13.3"
  }
 },
 "nbformat": 4,
 "nbformat_minor": 5
}
