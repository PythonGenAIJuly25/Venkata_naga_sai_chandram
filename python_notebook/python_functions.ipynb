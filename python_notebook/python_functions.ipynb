{
 "cells": [
  {
   "cell_type": "markdown",
   "id": "81e657a2",
   "metadata": {},
   "source": [
    "## Functions"
   ]
  },
  {
   "cell_type": "code",
   "execution_count": 19,
   "id": "f6d80e62",
   "metadata": {},
   "outputs": [
    {
     "name": "stdout",
     "output_type": "stream",
     "text": [
      "30\n"
     ]
    }
   ],
   "source": [
    "def sums(a, b):\n",
    "    return a + b\n",
    "\n",
    "a = 10\n",
    "b = 20\n",
    "\n",
    "print(sums(a,b))"
   ]
  },
  {
   "cell_type": "code",
   "execution_count": 20,
   "id": "a1654549",
   "metadata": {},
   "outputs": [
    {
     "name": "stdout",
     "output_type": "stream",
     "text": [
      "32\n",
      "25\n",
      "16\n"
     ]
    }
   ],
   "source": [
    "def mul(a, b):\n",
    "    return a ** b\n",
    "\n",
    "a = 2\n",
    "b = 5\n",
    "\n",
    "print(mul(a, b))\n",
    "print(mul(b, a))\n",
    "print(mul(b=2, a=4))"
   ]
  },
  {
   "cell_type": "code",
   "execution_count": 21,
   "id": "a6efd40a",
   "metadata": {},
   "outputs": [
    {
     "name": "stdout",
     "output_type": "stream",
     "text": [
      "sai\n"
     ]
    },
    {
     "data": {
      "text/plain": [
       "'ganesh'"
      ]
     },
     "execution_count": 21,
     "metadata": {},
     "output_type": "execute_result"
    }
   ],
   "source": [
    "# dafault arguments\n",
    "\n",
    "def greet(name=\"sai\"):\n",
    "    return name\n",
    "\n",
    "print(greet())\n",
    "greet(\"ganesh\")\n"
   ]
  },
  {
   "cell_type": "code",
   "execution_count": 23,
   "id": "3e977f0f",
   "metadata": {},
   "outputs": [
    {
     "name": "stdout",
     "output_type": "stream",
     "text": [
      "(1, 2, 3, 4, 5)\n",
      "<class 'tuple'>\n",
      "1\n"
     ]
    }
   ],
   "source": [
    "# *args positional arguments\n",
    "\n",
    "def positional(*args):\n",
    "    print(args)\n",
    "    print(type(args))\n",
    "    print(min(args))\n",
    "\n",
    "positional(1,2,3,4,5)"
   ]
  },
  {
   "cell_type": "code",
   "execution_count": 24,
   "id": "93c91105",
   "metadata": {},
   "outputs": [
    {
     "data": {
      "text/plain": [
       "15"
      ]
     },
     "execution_count": 24,
     "metadata": {},
     "output_type": "execute_result"
    }
   ],
   "source": [
    "def my_sum(*num):\n",
    "    result = 0\n",
    "    for i in num:\n",
    "        result += i\n",
    "    return result\n",
    "my_sum(1,2,3,4,5)"
   ]
  },
  {
   "cell_type": "code",
   "execution_count": 37,
   "id": "46bc516d",
   "metadata": {},
   "outputs": [
    {
     "name": "stdout",
     "output_type": "stream",
     "text": [
      "Hello sai, You are 23 years old\n",
      "Hello ganesh, You are 23 years old\n",
      "Hello uday, You are 22 years old\n"
     ]
    }
   ],
   "source": [
    "def func(name=\"sai\",age=23):\n",
    "    return f\"Hello {name}, You are {age} years old\"\n",
    "\n",
    "print(func())\n",
    "print(func(\"ganesh\"))\n",
    "print(func(age=22,name=\"uday\"))\n",
    "#print(func(age=78, \"prasad\")) SyntaxError: positional argument follows keyword argument"
   ]
  },
  {
   "cell_type": "code",
   "execution_count": 38,
   "id": "f29e629d",
   "metadata": {},
   "outputs": [
    {
     "name": "stdout",
     "output_type": "stream",
     "text": [
      "<class 'dict'>\n",
      "{'name': 'sai', 'age': 90}\n"
     ]
    }
   ],
   "source": [
    "\n",
    "def print_details(**details):\n",
    "    print(type(details))\n",
    "    print(details)\n",
    "\n",
    "print_details(name =\"sai\", age = 90)"
   ]
  },
  {
   "cell_type": "code",
   "execution_count": 41,
   "id": "7e143a99",
   "metadata": {},
   "outputs": [
    {
     "name": "stdout",
     "output_type": "stream",
     "text": [
      "<class 'dict'>\n",
      "{'name': 'Sai', 'age': 25}\n"
     ]
    }
   ],
   "source": [
    "my_dict = {\"name\":\"Sai\", \"age\":25}\n",
    "\n",
    "print_details(**my_dict)"
   ]
  },
  {
   "cell_type": "code",
   "execution_count": 42,
   "id": "4b792626",
   "metadata": {},
   "outputs": [
    {
     "data": {
      "text/plain": [
       "45"
      ]
     },
     "execution_count": 42,
     "metadata": {},
     "output_type": "execute_result"
    }
   ],
   "source": [
    "list1 = [1,2,3,4,5]\n",
    "list2 = [1,2,3,4,5]\n",
    "list3 = [1,2,3,4,5]\n",
    "\n",
    "def sum_numbers(*args):\n",
    "    result = 0\n",
    "    for num in args:\n",
    "        result += num\n",
    "    return result\n",
    "\n",
    "sum_numbers(*list1, *list2, *list3)"
   ]
  },
  {
   "cell_type": "code",
   "execution_count": 43,
   "id": "6dce0f98",
   "metadata": {},
   "outputs": [
    {
     "data": {
      "text/plain": [
       "[1, 2, 3, 4, 5, 1, 2, 3, 4, 5]"
      ]
     },
     "execution_count": 43,
     "metadata": {},
     "output_type": "execute_result"
    }
   ],
   "source": [
    "concat_list = [*list1, *list2]\n",
    "concat_list"
   ]
  },
  {
   "cell_type": "markdown",
   "id": "fc89cd01",
   "metadata": {},
   "source": [
    "### lambda"
   ]
  },
  {
   "cell_type": "code",
   "execution_count": 44,
   "id": "cacb1996",
   "metadata": {},
   "outputs": [
    {
     "name": "stdout",
     "output_type": "stream",
     "text": [
      "5\n"
     ]
    }
   ],
   "source": [
    "# lambda arguments: expression\n",
    "\n",
    "add = lambda x, y : x + y\n",
    "\n",
    "print(add(2, 3))"
   ]
  },
  {
   "cell_type": "code",
   "execution_count": 45,
   "id": "da2c5070",
   "metadata": {},
   "outputs": [
    {
     "data": {
      "text/plain": [
       "'Hello'"
      ]
     },
     "execution_count": 45,
     "metadata": {},
     "output_type": "execute_result"
    }
   ],
   "source": [
    "greet = lambda : \"Hello\"\n",
    "greet()"
   ]
  },
  {
   "cell_type": "code",
   "execution_count": 46,
   "id": "a2137ef8",
   "metadata": {},
   "outputs": [
    {
     "data": {
      "text/plain": [
       "'SAI'"
      ]
     },
     "execution_count": 46,
     "metadata": {},
     "output_type": "execute_result"
    }
   ],
   "source": [
    "upper = lambda text : text.upper()\n",
    "upper(\"sai\")"
   ]
  },
  {
   "cell_type": "code",
   "execution_count": 49,
   "id": "a22fcdc6",
   "metadata": {},
   "outputs": [
    {
     "name": "stdout",
     "output_type": "stream",
     "text": [
      "100\n",
      "1000\n"
     ]
    }
   ],
   "source": [
    "# default args\n",
    "\n",
    "def_args = lambda x, y=2 : x ** y\n",
    "\n",
    "print(def_args(10))\n",
    "print(def_args(10, 3))"
   ]
  },
  {
   "cell_type": "code",
   "execution_count": 54,
   "id": "fc9befdf",
   "metadata": {},
   "outputs": [
    {
     "name": "stdout",
     "output_type": "stream",
     "text": [
      "Even\n"
     ]
    }
   ],
   "source": [
    "even_odd = lambda a : \"Even\" if a % 2 == 0 else \"Odd\"\n",
    "\n",
    "print(even_odd(30))"
   ]
  },
  {
   "cell_type": "code",
   "execution_count": 57,
   "id": "04e41040",
   "metadata": {},
   "outputs": [
    {
     "name": "stdout",
     "output_type": "stream",
     "text": [
      "30\n"
     ]
    }
   ],
   "source": [
    "max_value = lambda a, b : a if a > b else b\n",
    "\n",
    "print(max_value(20,30))"
   ]
  },
  {
   "cell_type": "markdown",
   "id": "58439f4b",
   "metadata": {},
   "source": [
    "## Map()"
   ]
  },
  {
   "cell_type": "code",
   "execution_count": 71,
   "id": "e6bb55ae",
   "metadata": {},
   "outputs": [
    {
     "name": "stdout",
     "output_type": "stream",
     "text": [
      "[5, 6, 6, 6]\n"
     ]
    }
   ],
   "source": [
    "# map(function, iterable) #iterable means lists,tuple, string etc and function means lambda tec\n",
    "\n",
    "fruits = [\"apple\",\"orange\",\"grapes\",\"banana\"]\n",
    "\n",
    "def mapfunc(n):\n",
    "    return len(n)\n",
    "\n",
    "x = list(map(mapfunc, fruits))\n",
    "print(x)"
   ]
  },
  {
   "cell_type": "code",
   "execution_count": 64,
   "id": "450a30f3",
   "metadata": {},
   "outputs": [
    {
     "name": "stdout",
     "output_type": "stream",
     "text": [
      "(5, 6, 6, 6)\n"
     ]
    }
   ],
   "source": [
    "fruits = [\"apple\",\"orange\",\"grapes\",\"banana\"]\n",
    "\n",
    "maplambda = tuple(map(lambda x : len(x), fruits))\n",
    "print(maplambda)"
   ]
  },
  {
   "cell_type": "code",
   "execution_count": 69,
   "id": "9930e976",
   "metadata": {},
   "outputs": [
    {
     "name": "stdout",
     "output_type": "stream",
     "text": [
      "[1, 4, 9, 16, 25]\n"
     ]
    }
   ],
   "source": [
    "numbers = [1,2,3,4,5]\n",
    "\n",
    "numlambda = list(map(lambda x: x ** 2, numbers))\n",
    "print(numlambda)"
   ]
  },
  {
   "cell_type": "code",
   "execution_count": 76,
   "id": "a907d16c",
   "metadata": {},
   "outputs": [
    {
     "name": "stdout",
     "output_type": "stream",
     "text": [
      "[1, 2]\n"
     ]
    }
   ],
   "source": [
    "numbers = [-2,-1,0,1,2,-3]\n",
    "\n",
    "def is_positive(num):\n",
    "    if num > 0:\n",
    "        return True\n",
    "    else:\n",
    "        return False\n",
    "\n",
    "positivenumber = list(filter(is_positive, numbers))\n",
    "print(positivenumber)"
   ]
  },
  {
   "cell_type": "code",
   "execution_count": 83,
   "id": "90a86cf8",
   "metadata": {},
   "outputs": [
    {
     "name": "stdout",
     "output_type": "stream",
     "text": [
      "[-2, 0, 2]\n"
     ]
    }
   ],
   "source": [
    "numbers = [-2,-1,0,1,2,-3]\n",
    "\n",
    "evennumber = list(filter(lambda x: x % 2 == 0, numbers))\n",
    "print(evennumber)"
   ]
  },
  {
   "cell_type": "code",
   "execution_count": 84,
   "id": "f1d120d6",
   "metadata": {},
   "outputs": [
    {
     "name": "stdout",
     "output_type": "stream",
     "text": [
      "['ganesh', 'uday', 'prasad']\n"
     ]
    }
   ],
   "source": [
    "characters = [\"ganesh\",\"sai\",\"uday\",\"prasad\",\"sri\"]\n",
    "\n",
    "somecharacter = list(filter(lambda x : len(x)>3, characters))\n",
    "print(somecharacter)\n",
    "\n"
   ]
  },
  {
   "cell_type": "code",
   "execution_count": null,
   "id": "a2507b4a",
   "metadata": {},
   "outputs": [],
   "source": []
  }
 ],
 "metadata": {
  "kernelspec": {
   "display_name": "Python 3",
   "language": "python",
   "name": "python3"
  },
  "language_info": {
   "codemirror_mode": {
    "name": "ipython",
    "version": 3
   },
   "file_extension": ".py",
   "mimetype": "text/x-python",
   "name": "python",
   "nbconvert_exporter": "python",
   "pygments_lexer": "ipython3",
   "version": "3.13.3"
  }
 },
 "nbformat": 4,
 "nbformat_minor": 5
}
