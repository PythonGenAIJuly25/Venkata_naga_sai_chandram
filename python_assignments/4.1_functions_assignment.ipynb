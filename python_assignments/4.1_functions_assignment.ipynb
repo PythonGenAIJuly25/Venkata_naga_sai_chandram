{
 "cells": [
  {
   "cell_type": "markdown",
   "metadata": {},
   "source": [
    "# Module 4: Functions Assignments\n",
    "## Lesson 4.1: Defining Functions\n",
    "### Assignment 1: Simple Function\n",
    "\n",
    "Define a function that takes a single integer as input and returns its square. Test the function with different inputs.\n"
   ]
  },
  {
   "cell_type": "code",
   "execution_count": 3,
   "id": "79bfdcf0",
   "metadata": {},
   "outputs": [
    {
     "name": "stdout",
     "output_type": "stream",
     "text": [
      "100\n"
     ]
    }
   ],
   "source": [
    "def squared_number(number):\n",
    "    return number ** 2\n",
    "\n",
    "number = int(input(\"Enter the number\"))\n",
    "square = squared_number(number)\n",
    "print(square)"
   ]
  },
  {
   "cell_type": "markdown",
   "id": "1c3419b8",
   "metadata": {},
   "source": [
    "\n",
    "### Assignment 2: Multiple Arguments\n",
    "\n",
    "Define a function that takes two integers as input and returns their sum. Test the function with different inputs.\n"
   ]
  },
  {
   "cell_type": "code",
   "execution_count": 5,
   "id": "525a8db6",
   "metadata": {},
   "outputs": [
    {
     "name": "stdout",
     "output_type": "stream",
     "text": [
      "6\n"
     ]
    }
   ],
   "source": [
    "def sum_of_numbers(num1, num2):\n",
    "    return num1 + num2\n",
    "\n",
    "num1 = int(input(\"Enter the first number\"))\n",
    "num2 = int(input(\"Enter the second number\"))\n",
    "\n",
    "sum = sum_of_numbers(num1, num2)\n",
    "print(sum)"
   ]
  },
  {
   "cell_type": "markdown",
   "id": "42b2f2ca",
   "metadata": {},
   "source": [
    "\n",
    "### Assignment 3: Default Arguments\n",
    "\n",
    "Define a function that takes two integers as input and returns their sum. The second integer should have a default value of 5. Test the function with different inputs.\n"
   ]
  },
  {
   "cell_type": "code",
   "execution_count": 10,
   "id": "6594f368",
   "metadata": {},
   "outputs": [
    {
     "data": {
      "text/plain": [
       "40"
      ]
     },
     "execution_count": 10,
     "metadata": {},
     "output_type": "execute_result"
    }
   ],
   "source": [
    "def default_numbers(a, b=20):\n",
    "    return a + b\n",
    "\n",
    "a = int(input(\"Enter the number\"))\n",
    "\n",
    "default_numbers(a)"
   ]
  },
  {
   "cell_type": "markdown",
   "id": "1de4ea99",
   "metadata": {},
   "source": [
    "\n",
    "### Assignment 4: Keyword Arguments\n",
    "\n",
    "Define a function that takes three named arguments: first_name, last_name, and age, and returns a formatted string. Test the function with different inputs.\n"
   ]
  },
  {
   "cell_type": "code",
   "execution_count": 12,
   "id": "ab8d6e17",
   "metadata": {},
   "outputs": [
    {
     "name": "stdout",
     "output_type": "stream",
     "text": [
      "my name is sai chandram and i am 25 years old\n",
      "my name is rohit sharma and i am 37 years old\n"
     ]
    }
   ],
   "source": [
    "def full_name(first_name, last_name, age):\n",
    "    return f\"my name is {first_name} {last_name} and i am {age} years old\"\n",
    "\n",
    "print(full_name(\"sai\",\"chandram\",25))\n",
    "print(full_name(last_name=\"sharma\",first_name=\"rohit\", age=37))"
   ]
  },
  {
   "cell_type": "markdown",
   "id": "4baf06a9",
   "metadata": {},
   "source": [
    "\n",
    "### Assignment 5: Variable-length Arguments\n",
    "\n",
    "Define a function that takes a variable number of integer arguments and returns their product. Test the function with different inputs.\n"
   ]
  },
  {
   "cell_type": "code",
   "execution_count": 18,
   "id": "b0d67fb1",
   "metadata": {},
   "outputs": [
    {
     "data": {
      "text/plain": [
       "120"
      ]
     },
     "execution_count": 18,
     "metadata": {},
     "output_type": "execute_result"
    }
   ],
   "source": [
    "def multiply_number(*args):\n",
    "    result = 1\n",
    "    for num in args:\n",
    "        result *= num\n",
    "    return result\n",
    "\n",
    "multiply_number(1,2,3,4,5)\n"
   ]
  },
  {
   "cell_type": "markdown",
   "id": "8860d322",
   "metadata": {},
   "source": [
    "\n",
    "### Assignment 6: Nested Functions\n",
    "\n",
    "Define a function that contains another function inside it. The outer function should take two integers as input and return the result of the inner function, which multiplies the two integers. Test the function with different inputs.\n"
   ]
  },
  {
   "cell_type": "code",
   "execution_count": 20,
   "id": "684fef00",
   "metadata": {},
   "outputs": [
    {
     "name": "stdout",
     "output_type": "stream",
     "text": [
      "12\n",
      "20\n"
     ]
    }
   ],
   "source": [
    "def outer_function(a, b):\n",
    "    def inner_function(x, y):\n",
    "        return x * y\n",
    "    return inner_function(a, b)\n",
    "\n",
    "print(outer_function(3, 4))\n",
    "print(outer_function(5, 4))"
   ]
  },
  {
   "cell_type": "markdown",
   "id": "616f33eb",
   "metadata": {},
   "source": [
    "\n",
    "### Assignment 7: Returning Multiple Values\n",
    "\n",
    "Define a function that takes a single integer as input and returns the integer squared, cubed, and raised to the power of four. Test the function with different inputs.\n"
   ]
  },
  {
   "cell_type": "code",
   "execution_count": 21,
   "id": "6d74533c",
   "metadata": {},
   "outputs": [
    {
     "name": "stdout",
     "output_type": "stream",
     "text": [
      "(4, 8, 16)\n",
      "(9, 27, 81)\n"
     ]
    }
   ],
   "source": [
    "def integer_number(n):\n",
    "    return n**2, n**3, n**4\n",
    "\n",
    "print(integer_number(2))\n",
    "print(integer_number(3))"
   ]
  },
  {
   "cell_type": "markdown",
   "id": "f6f4f09f",
   "metadata": {},
   "source": [
    "\n",
    "### Assignment 8: Recursive Function\n",
    "\n",
    "Define a recursive function that calculates the factorial of a given number. Test the function with different inputs.\n"
   ]
  },
  {
   "cell_type": "code",
   "execution_count": 22,
   "id": "aade89de",
   "metadata": {},
   "outputs": [
    {
     "name": "stdout",
     "output_type": "stream",
     "text": [
      "120\n",
      "720\n"
     ]
    }
   ],
   "source": [
    "def fact(n):\n",
    "    if n==0 or n==1:\n",
    "        return 1\n",
    "    else:\n",
    "        return n * fact(n-1)\n",
    "\n",
    "print(fact(5))\n",
    "print(fact(6))\n"
   ]
  },
  {
   "cell_type": "markdown",
   "id": "df692d50",
   "metadata": {},
   "source": [
    "\n",
    "### Assignment 9: Lambda Function\n",
    "\n",
    "Define a lambda function that takes two integers as input and returns their sum. Test the lambda function with different inputs.\n"
   ]
  },
  {
   "cell_type": "code",
   "execution_count": 23,
   "id": "dd199548",
   "metadata": {},
   "outputs": [
    {
     "name": "stdout",
     "output_type": "stream",
     "text": [
      "5\n",
      "20\n"
     ]
    }
   ],
   "source": [
    "sum_numbers = lambda x, y: x + y\n",
    "\n",
    "print(sum_numbers(2, 3))\n",
    "print(sum_numbers(10, 10))"
   ]
  },
  {
   "cell_type": "markdown",
   "id": "88b26692",
   "metadata": {},
   "source": [
    "\n",
    "### Assignment 10: Map Function\n",
    "\n",
    "Use the map function to apply a lambda function that squares each number in a list of integers. Test with different lists.\n"
   ]
  },
  {
   "cell_type": "code",
   "execution_count": 24,
   "id": "d7af9b6d",
   "metadata": {},
   "outputs": [
    {
     "name": "stdout",
     "output_type": "stream",
     "text": [
      "[1, 4, 9, 16, 25]\n",
      "[36, 49, 64, 81, 100]\n"
     ]
    }
   ],
   "source": [
    "numbers1 = [1,2,3,4,5]\n",
    "numbers2 = [6,7,8,9,10]\n",
    "\n",
    "map_lambda1 = list(map(lambda x: x ** 2, numbers1))\n",
    "map_lambda2 = list(map(lambda x: x ** 2, numbers2))\n",
    "\n",
    "print(map_lambda1)\n",
    "print(map_lambda2)\n"
   ]
  },
  {
   "cell_type": "markdown",
   "id": "042f99fb",
   "metadata": {},
   "source": [
    "\n",
    "### Assignment 11: Filter Function\n",
    "\n",
    "Use the filter function to filter out all odd numbers from a list of integers. Test with different lists.\n"
   ]
  },
  {
   "cell_type": "code",
   "execution_count": 25,
   "id": "8222ac91",
   "metadata": {},
   "outputs": [
    {
     "name": "stdout",
     "output_type": "stream",
     "text": [
      "[2, 4, 6, 8, 10]\n"
     ]
    }
   ],
   "source": [
    "numbers = [1,2,3,4,5,6,7,8,9,10]\n",
    "\n",
    "remove_oddnumbers = list(filter(lambda x : x % 2 == 0, numbers))\n",
    "\n",
    "print(remove_oddnumbers)"
   ]
  },
  {
   "cell_type": "markdown",
   "id": "e9311b92",
   "metadata": {},
   "source": [
    "\n",
    "### Assignment 12: Function Decorator\n",
    "\n",
    "Define a decorator function that prints 'Executing function...' before executing a function and 'Function executed.' after executing it. Apply this decorator to a function that takes a list of integers and returns their sum. Test the decorated function with different lists.\n"
   ]
  },
  {
   "cell_type": "markdown",
   "id": "11d202da",
   "metadata": {},
   "source": [
    "\n",
    "### Assignment 13: Function with *args and **kwargs\n",
    "\n",
    "Define a function that takes variable-length arguments and keyword arguments and prints them. Test the function with different inputs.\n"
   ]
  },
  {
   "cell_type": "code",
   "execution_count": 34,
   "id": "85c20e03",
   "metadata": {},
   "outputs": [
    {
     "name": "stdout",
     "output_type": "stream",
     "text": [
      "Positional arguments  (1, 2, 3)\n",
      "Keyword arguments  {'name': 'Sai', 'age': 25}\n",
      "Positional arguments  ('apple', 'banana')\n",
      "Keyword arguments  {'fruit': 'mango', 'color': 'yellow'}\n"
     ]
    }
   ],
   "source": [
    "def display_args_kwargs(*args, **kwargs):\n",
    "    print(\"Positional arguments \", args)\n",
    "    print(\"Keyword arguments \", kwargs)\n",
    "\n",
    "display_args_kwargs(1, 2, 3, name=\"Sai\", age=25)\n",
    "display_args_kwargs(\"apple\", \"banana\", fruit=\"mango\", color=\"yellow\")\n"
   ]
  },
  {
   "cell_type": "markdown",
   "id": "44ece544",
   "metadata": {},
   "source": [
    "\n",
    "### Assignment 14: Higher-Order Function\n",
    "\n",
    "Define a higher-order function that takes a function and a list of integers as arguments, and applies the function to each integer in the list. Test with different functions and lists.\n"
   ]
  },
  {
   "cell_type": "code",
   "execution_count": 41,
   "id": "aa43be57",
   "metadata": {},
   "outputs": [
    {
     "name": "stdout",
     "output_type": "stream",
     "text": [
      "[1, 4, 9, 16, 25]\n",
      "[1, 8, 27, 64, 125]\n"
     ]
    }
   ],
   "source": [
    "numbers = [1,2,3,4,5]\n",
    "\n",
    "def higher_function(func, numbers):\n",
    "    #return list(map(func, numbers))\n",
    "    return [func(n) for n in numbers]\n",
    "    \n",
    "\n",
    "def square(numbers):\n",
    "    return numbers ** 2\n",
    "\n",
    "def cube(numbers):\n",
    "    return numbers ** 3\n",
    "\n",
    "print(higher_function(square, numbers))\n",
    "print(higher_function(cube, numbers))"
   ]
  },
  {
   "cell_type": "markdown",
   "id": "f6d025d9",
   "metadata": {},
   "source": [
    "\n",
    "### Assignment 15: Function Documentation\n",
    "\n",
    "Define a function with a docstring that explains what the function does, its parameters, and its return value. Print the function's docstring."
   ]
  },
  {
   "cell_type": "code",
   "execution_count": 44,
   "metadata": {},
   "outputs": [
    {
     "name": "stdout",
     "output_type": "stream",
     "text": [
      "\n",
      "Here this function takes two paramenters and return their sum of two parameters(integers)\n",
      "\n",
      "parameter1: It will take integer or float\n",
      "parameter2: It will take integer or float\n",
      "\n",
      "It returns the sum of two numbers in an integer or float based on user input..\n",
      "\n"
     ]
    }
   ],
   "source": [
    "def docstring_function(a, b):\n",
    "    \"\"\"\n",
    "    Here this function takes two paramenters and return their sum of two parameters(integers)\n",
    "\n",
    "    parameter1: It will take integer or float\n",
    "    parameter2: It will take integer or float\n",
    "\n",
    "    It returns the sum of two numbers in an integer or float based on user input..\n",
    "    \"\"\"\n",
    "    return a + b\n",
    "\n",
    "print(docstring_function.__doc__)"
   ]
  }
 ],
 "metadata": {
  "kernelspec": {
   "display_name": "Python 3",
   "language": "python",
   "name": "python3"
  },
  "language_info": {
   "codemirror_mode": {
    "name": "ipython",
    "version": 3
   },
   "file_extension": ".py",
   "mimetype": "text/x-python",
   "name": "python",
   "nbconvert_exporter": "python",
   "pygments_lexer": "ipython3",
   "version": "3.13.3"
  }
 },
 "nbformat": 4,
 "nbformat_minor": 5
}
