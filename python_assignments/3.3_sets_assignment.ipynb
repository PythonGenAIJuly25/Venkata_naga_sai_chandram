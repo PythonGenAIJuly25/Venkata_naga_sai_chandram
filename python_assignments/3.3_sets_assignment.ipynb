{
 "cells": [
  {
   "cell_type": "markdown",
   "metadata": {},
   "source": [
    "# Module 3: Data Structures Assignments\n",
    "## Lesson 3.3: Sets\n",
    "### Assignment 1: Creating and Accessing Sets\n",
    "\n",
    "Create a set with the first 10 positive integers. Print the set."
   ]
  },
  {
   "cell_type": "code",
   "execution_count": 1,
   "id": "c4181f8a",
   "metadata": {},
   "outputs": [
    {
     "name": "stdout",
     "output_type": "stream",
     "text": [
      "{1, 2, 3, 4, 5, 6, 7, 8, 9, 10}\n"
     ]
    }
   ],
   "source": [
    "my_set = set(range(1, 11))\n",
    "\n",
    "print(my_set)"
   ]
  },
  {
   "cell_type": "markdown",
   "id": "70cc8efa",
   "metadata": {},
   "source": [
    "\n",
    "### Assignment 2: Adding and Removing Elements\n",
    "\n",
    "Add the number 11 to the set created in Assignment 1. Then remove the number 1 from the set. Print the modified set.\n"
   ]
  },
  {
   "cell_type": "code",
   "execution_count": 3,
   "id": "3c695301",
   "metadata": {},
   "outputs": [
    {
     "name": "stdout",
     "output_type": "stream",
     "text": [
      "{1, 2, 3, 4, 5, 6, 7, 8, 9, 10}\n",
      "{2, 3, 4, 5, 6, 7, 8, 9, 10, 11}\n"
     ]
    }
   ],
   "source": [
    "print(my_set)\n",
    "\n",
    "my_set.add(11)\n",
    "my_set.remove(1)\n",
    "\n",
    "print(my_set)"
   ]
  },
  {
   "cell_type": "markdown",
   "id": "d37ba4ca",
   "metadata": {},
   "source": [
    "\n",
    "### Assignment 3: Set Operations\n",
    "\n",
    "Create two sets: one with the first 5 positive integers and another with the first 5 even integers. Perform and print the results of union, intersection, difference, and symmetric difference operations on these sets.\n"
   ]
  },
  {
   "cell_type": "code",
   "execution_count": 4,
   "id": "a6ff7138",
   "metadata": {},
   "outputs": [
    {
     "name": "stdout",
     "output_type": "stream",
     "text": [
      "{1, 2, 3, 4, 5, 6, 8, 10}\n",
      "{2, 4}\n",
      "{1, 3, 5}\n",
      "{1, 3, 5, 6, 8, 10}\n"
     ]
    }
   ],
   "source": [
    "set1 = {1,2,3,4,5}\n",
    "set2 = {2,4,6,8,10}\n",
    "\n",
    "union_set = set1.union(set2)\n",
    "intersection_set = set1.intersection(set2)\n",
    "difference_set = set1.difference(set2)\n",
    "symetric_set = set1.symmetric_difference(set2)\n",
    "\n",
    "print(union_set)\n",
    "print(intersection_set)\n",
    "print(difference_set)\n",
    "print(symetric_set)\n"
   ]
  },
  {
   "cell_type": "markdown",
   "id": "06bc0cfb",
   "metadata": {},
   "source": [
    "\n",
    "### Assignment 4: Set Comprehensions\n",
    "\n",
    "Create a new set containing the squares of the first 10 positive integers using a set comprehension. Print the new set.\n"
   ]
  },
  {
   "cell_type": "code",
   "execution_count": null,
   "id": "7238b472",
   "metadata": {},
   "outputs": [],
   "source": []
  },
  {
   "cell_type": "markdown",
   "id": "e10765e7",
   "metadata": {},
   "source": [
    "\n",
    "### Assignment 5: Filtering Sets\n",
    "\n",
    "Create a new set containing only the even numbers from the set created in Assignment 1 using a set comprehension. Print the new set.\n"
   ]
  },
  {
   "cell_type": "markdown",
   "id": "6c4744e8",
   "metadata": {},
   "source": [
    "\n",
    "### Assignment 6: Set Methods\n",
    "\n",
    "Create a set with duplicate elements and remove the duplicates using set methods. Print the modified set.\n"
   ]
  },
  {
   "cell_type": "markdown",
   "id": "7016e1cf",
   "metadata": {},
   "source": [
    "\n",
    "### Assignment 7: Subsets and Supersets\n",
    "\n",
    "Create two sets: one with the first 5 positive integers and another with the first 3 positive integers. Check if the second set is a subset of the first set and if the first set is a superset of the second set. Print the results.\n"
   ]
  },
  {
   "cell_type": "markdown",
   "id": "c87664cc",
   "metadata": {},
   "source": [
    "\n",
    "### Assignment 8: Frozenset\n",
    "\n",
    "Create a frozenset with the first 5 positive integers. Print the frozenset.\n"
   ]
  },
  {
   "cell_type": "markdown",
   "id": "a971ceda",
   "metadata": {},
   "source": [
    "\n",
    "### Assignment 9: Set and List Conversion\n",
    "\n",
    "Create a set with the first 5 positive integers. Convert it to a list, append the number 6, and convert it back to a set. Print the resulting set.\n"
   ]
  },
  {
   "cell_type": "markdown",
   "id": "0a863692",
   "metadata": {},
   "source": [
    "\n",
    "### Assignment 10: Set and Dictionary\n",
    "\n",
    "Create a dictionary with set keys and integer values. Print the dictionary.\n"
   ]
  },
  {
   "cell_type": "markdown",
   "id": "07ac0657",
   "metadata": {},
   "source": [
    "\n",
    "### Assignment 11: Iterating Over Sets\n",
    "\n",
    "Create a set and iterate over the elements, printing each element.\n"
   ]
  },
  {
   "cell_type": "markdown",
   "id": "d12359cb",
   "metadata": {},
   "source": [
    "\n",
    "### Assignment 12: Removing Elements from Sets\n",
    "\n",
    "Create a set and remove elements from it until it is empty. Print the set after each removal.\n"
   ]
  },
  {
   "cell_type": "markdown",
   "id": "3bbb1e85",
   "metadata": {},
   "source": [
    "\n",
    "### Assignment 13: Set Symmetric Difference Update\n",
    "\n",
    "Create two sets and update the first set with the symmetric difference of the two sets. Print the modified first set.\n"
   ]
  },
  {
   "cell_type": "markdown",
   "id": "6f890faf",
   "metadata": {},
   "source": [
    "\n",
    "### Assignment 14: Set Membership Testing\n",
    "\n",
    "Create a set and test if certain elements are present in the set. Print the results.\n"
   ]
  },
  {
   "cell_type": "markdown",
   "id": "53ae9e3d",
   "metadata": {},
   "source": [
    "\n",
    "### Assignment 15: Set of Tuples\n",
    "\n",
    "Create a set containing tuples, where each tuple contains two elements. Print the set."
   ]
  },
  {
   "cell_type": "code",
   "execution_count": null,
   "metadata": {},
   "outputs": [],
   "source": []
  }
 ],
 "metadata": {
  "kernelspec": {
   "display_name": "Python 3",
   "language": "python",
   "name": "python3"
  },
  "language_info": {
   "codemirror_mode": {
    "name": "ipython",
    "version": 3
   },
   "file_extension": ".py",
   "mimetype": "text/x-python",
   "name": "python",
   "nbconvert_exporter": "python",
   "pygments_lexer": "ipython3",
   "version": "3.13.3"
  }
 },
 "nbformat": 4,
 "nbformat_minor": 5
}
