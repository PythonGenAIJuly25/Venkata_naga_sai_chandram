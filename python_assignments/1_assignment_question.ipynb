{
 "cells": [
  {
   "cell_type": "markdown",
   "metadata": {
    "id": "MO4Z3Do-cjJp"
   },
   "source": [
    "# Python Basics\n",
    "## Topics Covered:\n",
    "- Syntax and Semantics\n",
    "- Variables and Data Types\n",
    "- Basic Operators (Arithmetic, Comparison, Logical)\n"
   ]
  },
  {
   "cell_type": "markdown",
   "metadata": {
    "id": "VRGnyB19cjJt"
   },
   "source": [
    "## 1. Syntax and Semantics\n",
    "\n",
    "**Question 1:** Write a Python program to print \"Hello, World!\"."
   ]
  },
  {
   "cell_type": "code",
   "execution_count": 1,
   "metadata": {
    "colab": {
     "base_uri": "https://localhost:8080/"
    },
    "executionInfo": {
     "elapsed": 15,
     "status": "ok",
     "timestamp": 1752555501754,
     "user": {
      "displayName": "Sai Chandram",
      "userId": "09008611767281344239"
     },
     "user_tz": -330
    },
    "id": "R19gDvQocjJt",
    "outputId": "f3ebfd4b-6293-4cc8-e1eb-09ab2434870c"
   },
   "outputs": [
    {
     "name": "stdout",
     "output_type": "stream",
     "text": [
      "Hello, World!\n"
     ]
    }
   ],
   "source": [
    "# Your code here\n",
    "\n",
    "print(\"Hello, World!\")"
   ]
  },
  {
   "cell_type": "markdown",
   "metadata": {
    "id": "5PYlsM1ecjJv"
   },
   "source": [
    "**Question 2:** Write a Python program that takes a user input and prints it."
   ]
  },
  {
   "cell_type": "code",
   "execution_count": null,
   "metadata": {
    "colab": {
     "base_uri": "https://localhost:8080/"
    },
    "executionInfo": {
     "elapsed": 2078,
     "status": "ok",
     "timestamp": 1752555560133,
     "user": {
      "displayName": "Sai Chandram",
      "userId": "09008611767281344239"
     },
     "user_tz": -330
    },
    "id": "emiPc112cjJv",
    "outputId": "cfe2e007-a612-4295-8557-d8b528b9587f"
   },
   "outputs": [
    {
     "name": "stdout",
     "output_type": "stream",
     "text": [
      "\n"
     ]
    }
   ],
   "source": [
    "# Your code here\n",
    "\n",
    "Name = input(\"Enter your name : \")\n",
    "\n",
    "print(Name)"
   ]
  },
  {
   "cell_type": "markdown",
   "metadata": {
    "id": "wgTy_A0PcjJv"
   },
   "source": [
    "**Question 3:** Write a Python program to check if a number is positive, negative, or zero."
   ]
  },
  {
   "cell_type": "code",
   "execution_count": 2,
   "metadata": {
    "colab": {
     "base_uri": "https://localhost:8080/"
    },
    "executionInfo": {
     "elapsed": 1165,
     "status": "ok",
     "timestamp": 1752558092328,
     "user": {
      "displayName": "Sai Chandram",
      "userId": "09008611767281344239"
     },
     "user_tz": -330
    },
    "id": "f7xuRSwMcjJw",
    "outputId": "38db53d7-5352-447c-8592-a348bd4272c7"
   },
   "outputs": [
    {
     "name": "stdout",
     "output_type": "stream",
     "text": [
      "It is a positive number\n"
     ]
    }
   ],
   "source": [
    "# Your code here\n",
    "\n",
    "number = int(input(\"Enter the number : \"))\n",
    "\n",
    "if number > 0:\n",
    "  print(\"It is a positive number\")\n",
    "elif number < 0:\n",
    "  print(\"It is a negative number\")\n",
    "else:\n",
    "  print(\"It is a zero number\")"
   ]
  },
  {
   "cell_type": "markdown",
   "metadata": {
    "id": "Zw48eEIXcjJw"
   },
   "source": [
    "**Question 4:** Write a Python program to find the largest of three numbers."
   ]
  },
  {
   "cell_type": "code",
   "execution_count": 3,
   "metadata": {
    "colab": {
     "base_uri": "https://localhost:8080/"
    },
    "executionInfo": {
     "elapsed": 9,
     "status": "ok",
     "timestamp": 1752558129510,
     "user": {
      "displayName": "Sai Chandram",
      "userId": "09008611767281344239"
     },
     "user_tz": -330
    },
    "id": "OXQU59YjcjJw",
    "outputId": "7e6bccd3-16c7-4d38-b3c2-4b577281e082"
   },
   "outputs": [
    {
     "name": "stdout",
     "output_type": "stream",
     "text": [
      "3000 is a biggest number\n"
     ]
    }
   ],
   "source": [
    "# Your code here\n",
    "\n",
    "a = 3000\n",
    "b = 30\n",
    "c = 300\n",
    "\n",
    "if a >= b and a >= c:\n",
    "  print(f\"{a} is a biggest number\")\n",
    "elif b >= a and b >= c:\n",
    "  print(f\"{b} is the biggest number\")\n",
    "else:\n",
    "  print(f\"{c} is the biggest number\")\n"
   ]
  },
  {
   "cell_type": "markdown",
   "metadata": {
    "id": "iFqhoC22cjJx"
   },
   "source": [
    "**Question 5:** Write a Python program to calculate the factorial of a number.\n",
    "\n",
    "\n",
    "\n"
   ]
  },
  {
   "cell_type": "code",
   "execution_count": 4,
   "metadata": {
    "colab": {
     "base_uri": "https://localhost:8080/"
    },
    "executionInfo": {
     "elapsed": 13,
     "status": "ok",
     "timestamp": 1752556236144,
     "user": {
      "displayName": "Sai Chandram",
      "userId": "09008611767281344239"
     },
     "user_tz": -330
    },
    "id": "Io3DogEVcjJx",
    "outputId": "b88d0dc5-ca4e-41ef-f96c-ee017ae4c011"
   },
   "outputs": [
    {
     "name": "stdout",
     "output_type": "stream",
     "text": [
      "720\n"
     ]
    }
   ],
   "source": [
    "# Your code here\n",
    "\n",
    "number = 6\n",
    "fact = 1\n",
    "\n",
    "while number > 0:\n",
    "  fact = fact * number\n",
    "  number -= 1\n",
    "\n",
    "print(fact)"
   ]
  },
  {
   "cell_type": "markdown",
   "metadata": {
    "id": "fVgcRHUucjJx"
   },
   "source": [
    "## 2. Variables and Data Types\n",
    "\n",
    "**Question 6:** Create variables of different data types: integer, float, string, and boolean. Print their values and types."
   ]
  },
  {
   "cell_type": "code",
   "execution_count": 5,
   "metadata": {
    "colab": {
     "base_uri": "https://localhost:8080/"
    },
    "executionInfo": {
     "elapsed": 10,
     "status": "ok",
     "timestamp": 1752556371444,
     "user": {
      "displayName": "Sai Chandram",
      "userId": "09008611767281344239"
     },
     "user_tz": -330
    },
    "id": "vAJ9N-_FcjJy",
    "outputId": "34b1d9a2-fb42-4fb8-8610-d69b77327049"
   },
   "outputs": [
    {
     "name": "stdout",
     "output_type": "stream",
     "text": [
      "sai <class 'str'>\n",
      "25 <class 'int'>\n",
      "81.25 <class 'float'>\n",
      "True <class 'bool'>\n"
     ]
    }
   ],
   "source": [
    "# Your code here\n",
    "\n",
    "name = \"sai\"\n",
    "age = 25\n",
    "percentage = 81.25\n",
    "is_pass = True\n",
    "\n",
    "print(name, type(name))\n",
    "print(age, type(age))\n",
    "print(percentage, type(percentage))\n",
    "print(is_pass, type(is_pass))"
   ]
  },
  {
   "cell_type": "markdown",
   "metadata": {
    "id": "tZLtNkVTcjJy"
   },
   "source": [
    "**Question 7:** Write a Python program to swap the values of two variables."
   ]
  },
  {
   "cell_type": "code",
   "execution_count": 26,
   "metadata": {
    "colab": {
     "base_uri": "https://localhost:8080/"
    },
    "executionInfo": {
     "elapsed": 22,
     "status": "ok",
     "timestamp": 1752556490111,
     "user": {
      "displayName": "Sai Chandram",
      "userId": "09008611767281344239"
     },
     "user_tz": -330
    },
    "id": "it0VwZn_cjJy",
    "outputId": "a897cb63-b9e5-4ab4-b5cc-5b9360c47d6c"
   },
   "outputs": [
    {
     "name": "stdout",
     "output_type": "stream",
     "text": [
      "20\n",
      "25\n"
     ]
    }
   ],
   "source": [
    "# Your code here\n",
    "\n",
    "a = 25\n",
    "b = 20\n",
    "\n",
    "a = a + b\n",
    "b = a - b\n",
    "a = a - b\n",
    "\n",
    "print(a)\n",
    "print(b)"
   ]
  },
  {
   "cell_type": "markdown",
   "metadata": {
    "id": "9SylgNiXcjJy"
   },
   "source": [
    "**Question 8:** Write a Python program to convert Celsius to Fahrenheit\n",
    "\n"
   ]
  },
  {
   "cell_type": "code",
   "execution_count": 6,
   "metadata": {
    "id": "dy9ty8QFcjJy"
   },
   "outputs": [
    {
     "name": "stdout",
     "output_type": "stream",
     "text": [
      "23.0 celsius is converted to 73.4 fahrenheit\n"
     ]
    }
   ],
   "source": [
    "# Your code here\n",
    "\n",
    "celsius = float(input(\"Enter the temperature : \"))\n",
    "\n",
    "fahrenheit = (celsius * 9/5) + 32\n",
    "\n",
    "print(f\"{celsius} celsius is converted to {fahrenheit} fahrenheit\")\n"
   ]
  },
  {
   "cell_type": "markdown",
   "metadata": {
    "id": "32EFoGqncjJy"
   },
   "source": [
    "**Question 9:** Write a Python program to concatenate two strings."
   ]
  },
  {
   "cell_type": "code",
   "execution_count": 7,
   "metadata": {
    "colab": {
     "base_uri": "https://localhost:8080/"
    },
    "executionInfo": {
     "elapsed": 7,
     "status": "ok",
     "timestamp": 1752556587883,
     "user": {
      "displayName": "Sai Chandram",
      "userId": "09008611767281344239"
     },
     "user_tz": -330
    },
    "id": "wt9AeqX4cjJy",
    "outputId": "cc2ea412-8520-40ec-a0e8-bc54072df0f9"
   },
   "outputs": [
    {
     "name": "stdout",
     "output_type": "stream",
     "text": [
      "sai chandram\n"
     ]
    }
   ],
   "source": [
    "# Your code here\n",
    "\n",
    "first_name = \"sai\"\n",
    "last_name = \"chandram\"\n",
    "\n",
    "print(first_name + ' '+ last_name)"
   ]
  },
  {
   "cell_type": "markdown",
   "metadata": {
    "id": "oP-pTK-ccjJy"
   },
   "source": [
    "**Question 10:** Write a Python program to check if a variable is of a specific data type.\n",
    "\n",
    "> Add blockquote\n",
    "\n"
   ]
  },
  {
   "cell_type": "code",
   "execution_count": 9,
   "metadata": {
    "colab": {
     "base_uri": "https://localhost:8080/"
    },
    "executionInfo": {
     "elapsed": 17,
     "status": "ok",
     "timestamp": 1752556827064,
     "user": {
      "displayName": "Sai Chandram",
      "userId": "09008611767281344239"
     },
     "user_tz": -330
    },
    "id": "EClO_A2ScjJy",
    "outputId": "06519eb5-6060-47c0-f0d1-0f0a1a3b0722"
   },
   "outputs": [
    {
     "name": "stdout",
     "output_type": "stream",
     "text": [
      "x is an integer\n"
     ]
    }
   ],
   "source": [
    "x = 25\n",
    "\n",
    "if type(x) == int:\n",
    "    print(\"x is an integer\")\n",
    "elif type(x) == float:\n",
    "    print(\"x is a float\")\n",
    "elif type(x) == str:\n",
    "    print(\"x is a string\")\n",
    "else:\n",
    "    print(\"x is of some other type\")\n"
   ]
  },
  {
   "cell_type": "markdown",
   "metadata": {
    "id": "h9mIdu6PcjJy"
   },
   "source": [
    "## 3. Basic Operators (Arithmetic, Comparison, Logical)\n",
    "\n",
    "**Question 11:** Write a Python program to perform arithmetic operations: addition, subtraction, multiplication, and division."
   ]
  },
  {
   "cell_type": "code",
   "execution_count": 10,
   "metadata": {
    "colab": {
     "base_uri": "https://localhost:8080/"
    },
    "executionInfo": {
     "elapsed": 29,
     "status": "ok",
     "timestamp": 1752556910335,
     "user": {
      "displayName": "Sai Chandram",
      "userId": "09008611767281344239"
     },
     "user_tz": -330
    },
    "id": "MSUqymLycjJy",
    "outputId": "0146d9b1-3149-413f-9b64-3402fad9de9f"
   },
   "outputs": [
    {
     "name": "stdout",
     "output_type": "stream",
     "text": [
      "120\n",
      "80\n",
      "2000\n",
      "0\n",
      "5\n",
      "5.0\n"
     ]
    }
   ],
   "source": [
    "# Your code here\n",
    "\n",
    "a = 100\n",
    "b = 20\n",
    "\n",
    "print(a + b)\n",
    "print(a - b)\n",
    "print(a * b)\n",
    "print(a % b)\n",
    "print(a // b)\n",
    "print(a / b)"
   ]
  },
  {
   "cell_type": "markdown",
   "metadata": {
    "id": "eItVoFLxcjJy"
   },
   "source": [
    "**Question 12:** Write a Python program to demonstrate comparison operators: equal to, not equal to, greater than, less than."
   ]
  },
  {
   "cell_type": "code",
   "execution_count": 36,
   "metadata": {
    "colab": {
     "base_uri": "https://localhost:8080/"
    },
    "executionInfo": {
     "elapsed": 15,
     "status": "ok",
     "timestamp": 1752557010945,
     "user": {
      "displayName": "Sai Chandram",
      "userId": "09008611767281344239"
     },
     "user_tz": -330
    },
    "id": "odisYEtYcjJz",
    "outputId": "3ccfed3f-f0f8-426e-d634-862d5db18853"
   },
   "outputs": [
    {
     "name": "stdout",
     "output_type": "stream",
     "text": [
      "False\n",
      "True\n",
      "True\n",
      "False\n",
      "True\n",
      "False\n"
     ]
    }
   ],
   "source": [
    "# Your code here\n",
    "\n",
    "a = 10\n",
    "b = 20\n",
    "\n",
    "print(a == b)\n",
    "print(a != b)\n",
    "print(a < b)\n",
    "print(a > b)\n",
    "print(a <= b)\n",
    "print(a >= b)"
   ]
  },
  {
   "cell_type": "markdown",
   "metadata": {
    "id": "mpvM175VcjJz"
   },
   "source": [
    "**Question 13**: Write a Python program to demonstrate logical operators: and, or, not."
   ]
  },
  {
   "cell_type": "code",
   "execution_count": 37,
   "metadata": {
    "colab": {
     "base_uri": "https://localhost:8080/"
    },
    "executionInfo": {
     "elapsed": 7,
     "status": "ok",
     "timestamp": 1752557165264,
     "user": {
      "displayName": "Sai Chandram",
      "userId": "09008611767281344239"
     },
     "user_tz": -330
    },
    "id": "GawDh3BPcjJz",
    "outputId": "1bcca6cc-018f-42b3-d9c2-170268b7a305"
   },
   "outputs": [
    {
     "name": "stdout",
     "output_type": "stream",
     "text": [
      "False\n",
      "True\n",
      "False\n"
     ]
    }
   ],
   "source": [
    "# Your code here\n",
    "\n",
    "a = True\n",
    "b = False\n",
    "\n",
    "print(a and b)\n",
    "print(a or b)\n",
    "print(not a)\n"
   ]
  },
  {
   "cell_type": "markdown",
   "metadata": {
    "id": "xULkD4VvcjJz"
   },
   "source": [
    "**Question 14:** Write a Python program to calculate the square of a number."
   ]
  },
  {
   "cell_type": "code",
   "execution_count": 11,
   "metadata": {
    "colab": {
     "base_uri": "https://localhost:8080/"
    },
    "executionInfo": {
     "elapsed": 25,
     "status": "ok",
     "timestamp": 1752557222509,
     "user": {
      "displayName": "Sai Chandram",
      "userId": "09008611767281344239"
     },
     "user_tz": -330
    },
    "id": "C1kPSc_bcjJz",
    "outputId": "1bfe90f1-a36b-4d16-c2b1-0420a3ff881a"
   },
   "outputs": [
    {
     "name": "stdout",
     "output_type": "stream",
     "text": [
      "25\n"
     ]
    }
   ],
   "source": [
    "# Your code here\n",
    "\n",
    "number = 5\n",
    "\n",
    "print(number ** 2)"
   ]
  },
  {
   "cell_type": "markdown",
   "metadata": {
    "id": "RC9-ivfMcjJz"
   },
   "source": [
    "**Question 15:** Write a Python program to check if a number is even or odd."
   ]
  },
  {
   "cell_type": "code",
   "execution_count": 14,
   "metadata": {
    "colab": {
     "base_uri": "https://localhost:8080/"
    },
    "executionInfo": {
     "elapsed": 6,
     "status": "ok",
     "timestamp": 1752557312897,
     "user": {
      "displayName": "Sai Chandram",
      "userId": "09008611767281344239"
     },
     "user_tz": -330
    },
    "id": "Ce3H_N2TcjJz",
    "outputId": "95b994ac-b1e9-4445-aef6-42b08939eadb"
   },
   "outputs": [
    {
     "name": "stdout",
     "output_type": "stream",
     "text": [
      "even number\n"
     ]
    }
   ],
   "source": [
    "# Your code here\n",
    "\n",
    "number = 0\n",
    "\n",
    "if number % 2 == 0:\n",
    "  print(\"even number\")\n",
    "else:\n",
    "  print(\"Odd number\")"
   ]
  },
  {
   "cell_type": "markdown",
   "metadata": {
    "id": "nUl45J2ncjJz"
   },
   "source": [
    ":**Question 16:** Write a Python program to find the sum of the first n natural numbers."
   ]
  },
  {
   "cell_type": "code",
   "execution_count": 16,
   "metadata": {
    "colab": {
     "base_uri": "https://localhost:8080/"
    },
    "executionInfo": {
     "elapsed": 10,
     "status": "ok",
     "timestamp": 1752557456323,
     "user": {
      "displayName": "Sai Chandram",
      "userId": "09008611767281344239"
     },
     "user_tz": -330
    },
    "id": "f0JKdsOfcjJz",
    "outputId": "45b88fae-9f22-4e68-f282-0da53c53a813"
   },
   "outputs": [
    {
     "name": "stdout",
     "output_type": "stream",
     "text": [
      "15\n"
     ]
    }
   ],
   "source": [
    "# Your code here\n",
    "\n",
    "number = 5\n",
    "sum = 0\n",
    "\n",
    "for i in range(1, number+1):\n",
    "  sum = sum + i\n",
    "\n",
    "print(sum)\n"
   ]
  },
  {
   "cell_type": "markdown",
   "metadata": {
    "id": "zK9TGtgtcjJz"
   },
   "source": [
    "**Question 17:** Write a Python program to check if a year is a leap year."
   ]
  },
  {
   "cell_type": "code",
   "execution_count": 18,
   "metadata": {
    "id": "qI8BZH5IcjJz"
   },
   "outputs": [
    {
     "name": "stdout",
     "output_type": "stream",
     "text": [
      "2024 is a leap year\n"
     ]
    }
   ],
   "source": [
    "# Your code here\n",
    "\n",
    "year = int(input(\"Enter the year: \"))\n",
    "\n",
    "if year % 4 == 0:\n",
    "\n",
    "    if year % 100 == 0:\n",
    "\n",
    "        if year % 400 == 0:\n",
    "            print(f\"{year} is a leap year\")\n",
    "        else:\n",
    "            print(f\"{year} is not a leap year\")\n",
    "\n",
    "    else:\n",
    "        print(f\"{year} is a leap year\")\n",
    "\n",
    "else:\n",
    "    print(f\"{year} is not a leap year\")"
   ]
  },
  {
   "cell_type": "markdown",
   "metadata": {
    "id": "3pSXFSd1cjJz"
   },
   "source": [
    "**Question 18:** Write a Python program to reverse a string."
   ]
  },
  {
   "cell_type": "code",
   "execution_count": 20,
   "metadata": {
    "colab": {
     "base_uri": "https://localhost:8080/"
    },
    "executionInfo": {
     "elapsed": 9,
     "status": "ok",
     "timestamp": 1752557712221,
     "user": {
      "displayName": "Sai Chandram",
      "userId": "09008611767281344239"
     },
     "user_tz": -330
    },
    "id": "3A0dsYbjcjJz",
    "outputId": "56a6f7dc-1acc-4ba1-895d-871122484815"
   },
   "outputs": [
    {
     "name": "stdout",
     "output_type": "stream",
     "text": [
      "mardnahc\n"
     ]
    }
   ],
   "source": [
    "# Your code here\n",
    "\n",
    "name = \"chandram\"\n",
    "rev = \"\"\n",
    "\n",
    "for i in name:\n",
    "  rev = i + rev\n",
    "\n",
    "print(rev)"
   ]
  },
  {
   "cell_type": "markdown",
   "metadata": {
    "id": "nCl30KzxcjJz"
   },
   "source": [
    "**Question 19:** Write a Python program to check if a string is a palindrome."
   ]
  },
  {
   "cell_type": "code",
   "execution_count": 57,
   "metadata": {
    "colab": {
     "base_uri": "https://localhost:8080/"
    },
    "executionInfo": {
     "elapsed": 10,
     "status": "ok",
     "timestamp": 1752557846268,
     "user": {
      "displayName": "Sai Chandram",
      "userId": "09008611767281344239"
     },
     "user_tz": -330
    },
    "id": "uTUyiYJucjJ0",
    "outputId": "b1883b17-4f81-4ef8-fbc8-7be4eaeccff4"
   },
   "outputs": [
    {
     "name": "stdout",
     "output_type": "stream",
     "text": [
      "It is a palindrome\n"
     ]
    }
   ],
   "source": [
    "# Your code here\n",
    "\n",
    "name = \"madam\"\n",
    "rev = \"\"\n",
    "\n",
    "for i in name:\n",
    "  rev = i + rev\n",
    "\n",
    "if name == rev:\n",
    "  print(\"It is a palindrome\")\n",
    "else:\n",
    "  print(\"It is not a palindrome\")"
   ]
  },
  {
   "cell_type": "markdown",
   "metadata": {
    "id": "pohw39PkcjJ4"
   },
   "source": [
    "**Question 20:** Write a Python program to sort a list of numbers in ascending order."
   ]
  },
  {
   "cell_type": "code",
   "execution_count": 22,
   "metadata": {
    "colab": {
     "base_uri": "https://localhost:8080/"
    },
    "executionInfo": {
     "elapsed": 10,
     "status": "ok",
     "timestamp": 1752558041856,
     "user": {
      "displayName": "Sai Chandram",
      "userId": "09008611767281344239"
     },
     "user_tz": -330
    },
    "id": "yNDcicCPcjJ4",
    "outputId": "5ab0028d-b6bb-4533-9354-df7e828efd9c"
   },
   "outputs": [
    {
     "name": "stdout",
     "output_type": "stream",
     "text": [
      "28\n"
     ]
    }
   ],
   "source": [
    "# Your code here\n",
    "numbers = [1, 2, 3, 4, 5, 6, 7]\n",
    "sum = 0\n",
    "\n",
    "for i in numbers:\n",
    "  sum = i + sum\n",
    "\n",
    "print(sum)\n",
    "\n",
    "\n"
   ]
  }
 ],
 "metadata": {
  "colab": {
   "provenance": [
    {
     "file_id": "1kRU3rFz868hKQyF8WjRBGKhBFiGuQ80Z",
     "timestamp": 1752562646333
    }
   ]
  },
  "kernelspec": {
   "display_name": "Python 3",
   "language": "python",
   "name": "python3"
  },
  "language_info": {
   "codemirror_mode": {
    "name": "ipython",
    "version": 3
   },
   "file_extension": ".py",
   "mimetype": "text/x-python",
   "name": "python",
   "nbconvert_exporter": "python",
   "pygments_lexer": "ipython3",
   "version": "3.13.3"
  }
 },
 "nbformat": 4,
 "nbformat_minor": 0
}
