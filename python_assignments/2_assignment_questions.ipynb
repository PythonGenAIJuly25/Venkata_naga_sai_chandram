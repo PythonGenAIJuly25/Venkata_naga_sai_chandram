{
 "cells": [
  {
   "cell_type": "markdown",
   "id": "t_EDGnqdYJSX",
   "metadata": {
    "id": "t_EDGnqdYJSX"
   },
   "source": [
    "# Module 2: Control Flow Assignments\n",
    "## Lesson 2.1: Conditional Statements"
   ]
  },
  {
   "cell_type": "markdown",
   "id": "nc4uyzeOX_Ua",
   "metadata": {
    "id": "nc4uyzeOX_Ua"
   },
   "source": [
    "### Assignment 1: Simple if Statement\n",
    "\n",
    "Write a program that asks the user to input a number and prints whether the number is positive."
   ]
  },
  {
   "cell_type": "code",
   "execution_count": 2,
   "id": "1f71SE04YAzG",
   "metadata": {
    "colab": {
     "base_uri": "https://localhost:8080/"
    },
    "executionInfo": {
     "elapsed": 4841,
     "status": "ok",
     "timestamp": 1752639754249,
     "user": {
      "displayName": "Sai Chandram",
      "userId": "09008611767281344239"
     },
     "user_tz": -330
    },
    "id": "1f71SE04YAzG",
    "outputId": "a0cc6211-040e-40a0-9fcf-dbb2e4003c07"
   },
   "outputs": [],
   "source": [
    "# your code here\n",
    "number = int(input(\"Enter the number\"))\n",
    "\n",
    "if number > 0:\n",
    "  print(f\"{number} is a positive number\")"
   ]
  },
  {
   "cell_type": "markdown",
   "id": "6MIuZhEAYNTS",
   "metadata": {
    "id": "6MIuZhEAYNTS"
   },
   "source": [
    "### Assignment 2: if-else Statement\n",
    "\n",
    "Write a program that asks the user to input a number and prints whether the number is positive or negative."
   ]
  },
  {
   "cell_type": "code",
   "execution_count": 6,
   "id": "mu870IIRYRSu",
   "metadata": {
    "colab": {
     "base_uri": "https://localhost:8080/"
    },
    "executionInfo": {
     "elapsed": 2601,
     "status": "ok",
     "timestamp": 1752654754965,
     "user": {
      "displayName": "Sai Chandram",
      "userId": "09008611767281344239"
     },
     "user_tz": -330
    },
    "id": "mu870IIRYRSu",
    "outputId": "6f4dbda5-4647-4f9c-acf1-2388b9268305"
   },
   "outputs": [
    {
     "name": "stdout",
     "output_type": "stream",
     "text": [
      "0 is a positive number\n"
     ]
    }
   ],
   "source": [
    "# your code here\n",
    "\n",
    "# your code here\n",
    "number = int(input(\"Enter the number\"))\n",
    "\n",
    "if number >= 0:\n",
    "  print(f\"{number} is a positive number\")\n",
    "else:\n",
    "  print(f\"{number} is a negative number\")"
   ]
  },
  {
   "cell_type": "markdown",
   "id": "vSCsLozyeqVc",
   "metadata": {
    "id": "vSCsLozyeqVc"
   },
   "source": [
    "### Assignment 3: if-elif-else Statement\n",
    "\n",
    "Write a program that asks the user to input a number and prints whether the number is positive, negative, or zero."
   ]
  },
  {
   "cell_type": "code",
   "execution_count": 12,
   "id": "tK7Kc_V6erbO",
   "metadata": {
    "id": "tK7Kc_V6erbO"
   },
   "outputs": [
    {
     "name": "stdout",
     "output_type": "stream",
     "text": [
      "0 is a Zero number\n"
     ]
    }
   ],
   "source": [
    "# your code here\n",
    "\n",
    "# your code here\n",
    "number = int(input(\"Enter the number\"))\n",
    "\n",
    "if number > 0:\n",
    "  print(f\"{number} is a positive number\")\n",
    "elif number < 0:\n",
    "  print(f\"{number} is a negative number\")\n",
    "else:\n",
    "  print(f\"{number} is a Zero number\")\n"
   ]
  },
  {
   "cell_type": "markdown",
   "id": "c7415885",
   "metadata": {},
   "source": [
    "\n",
    "### Assignment 4: Nested if Statement\n",
    "\n",
    "Write a program that asks the user to input a number and prints whether the number is positive and even, positive and odd, or negative.\n"
   ]
  },
  {
   "cell_type": "code",
   "execution_count": 21,
   "id": "984e4898",
   "metadata": {},
   "outputs": [
    {
     "name": "stdout",
     "output_type": "stream",
     "text": [
      "23 is a positive odd number\n"
     ]
    }
   ],
   "source": [
    "number = int(input(\"Enter the number\"))\n",
    "\n",
    "if number >= 0:\n",
    "    if number % 2 == 0:\n",
    "        print(f\"{number} is a positive even number\")\n",
    "    else:\n",
    "        print(f\"{number} is a positive odd number\")\n",
    "else:\n",
    "    print(f\"{number} is a negative number\")"
   ]
  },
  {
   "cell_type": "markdown",
   "id": "2a134fee",
   "metadata": {},
   "source": [
    "\n",
    "## Lesson 2.2: Loops\n",
    "### Assignment 5: for Loop\n",
    "\n",
    "Write a program that prints all the numbers from 1 to 10 using a for loop.\n"
   ]
  },
  {
   "cell_type": "code",
   "execution_count": 22,
   "id": "d2273229",
   "metadata": {},
   "outputs": [
    {
     "name": "stdout",
     "output_type": "stream",
     "text": [
      "1\n",
      "2\n",
      "3\n",
      "4\n",
      "5\n",
      "6\n",
      "7\n",
      "8\n",
      "9\n",
      "10\n"
     ]
    }
   ],
   "source": [
    "for i in range(1, 11):\n",
    "    print(i)"
   ]
  },
  {
   "cell_type": "markdown",
   "id": "_SWavaIOe0Bf",
   "metadata": {
    "id": "_SWavaIOe0Bf"
   },
   "source": [
    "### Assignment 6: while Loop\n",
    "\n",
    "Write a program that prints all the numbers from 1 to 10 using a while loop."
   ]
  },
  {
   "cell_type": "code",
   "execution_count": 13,
   "id": "Zjt-3qtLe0zx",
   "metadata": {
    "colab": {
     "base_uri": "https://localhost:8080/"
    },
    "executionInfo": {
     "elapsed": 29,
     "status": "ok",
     "timestamp": 1752654749770,
     "user": {
      "displayName": "Sai Chandram",
      "userId": "09008611767281344239"
     },
     "user_tz": -330
    },
    "id": "Zjt-3qtLe0zx",
    "outputId": "35cf2d46-507a-4e58-a8b3-8e23fb6b0dc8"
   },
   "outputs": [
    {
     "name": "stdout",
     "output_type": "stream",
     "text": [
      "1\n",
      "2\n",
      "3\n",
      "4\n",
      "5\n",
      "6\n",
      "7\n",
      "8\n",
      "9\n",
      "10\n"
     ]
    }
   ],
   "source": [
    "number = 1\n",
    "\n",
    "while number <= 10:\n",
    "  print(number)\n",
    "  number += 1"
   ]
  },
  {
   "cell_type": "markdown",
   "id": "73uSGMWNe_gc",
   "metadata": {
    "id": "73uSGMWNe_gc"
   },
   "source": [
    "### Assignment 7: Nested Loops\n",
    "\n",
    "Write a program that prints a 5x5 grid of asterisks (*) using nested loops."
   ]
  },
  {
   "cell_type": "code",
   "execution_count": 16,
   "id": "f_VC7J_8fAPF",
   "metadata": {
    "id": "f_VC7J_8fAPF"
   },
   "outputs": [
    {
     "name": "stdout",
     "output_type": "stream",
     "text": [
      "* * * * * \n",
      "* * * * * \n",
      "* * * * * \n",
      "* * * * * \n",
      "* * * * * \n"
     ]
    }
   ],
   "source": [
    "rows = 5\n",
    "\n",
    "for row in range(1, rows+1):\n",
    "    for column in range(1, rows+1):\n",
    "        print(\"*\", end=\" \")\n",
    "    print()"
   ]
  },
  {
   "cell_type": "markdown",
   "id": "bhH8HGZnfZzB",
   "metadata": {
    "id": "bhH8HGZnfZzB"
   },
   "source": [
    "### Assignment 8: break Statement\n",
    "\n",
    "```\n",
    "*# This is formatted as code*\n",
    "```\n",
    "\n",
    "\n",
    "\n",
    "Write a program that asks the user to input numbers until they input 0. The program should print the sum of all the input numbers."
   ]
  },
  {
   "cell_type": "code",
   "execution_count": 23,
   "id": "sbkEGpD9fa98",
   "metadata": {
    "id": "sbkEGpD9fa98"
   },
   "outputs": [
    {
     "name": "stdout",
     "output_type": "stream",
     "text": [
      "15\n"
     ]
    }
   ],
   "source": [
    "total = 0\n",
    "\n",
    "while True:\n",
    "    number = int(input(\"Enter the number\"))\n",
    "    if number == 0:\n",
    "        break\n",
    "    total += number\n",
    "\n",
    "print(total)"
   ]
  },
  {
   "cell_type": "markdown",
   "id": "eb937953",
   "metadata": {},
   "source": [
    "\n",
    "\n",
    "### Assignment 9: continue Statement\n",
    "\n",
    "Write a program that prints all the numbers from 1 to 10 except 5 using a for loop and continue statement.\n"
   ]
  },
  {
   "cell_type": "code",
   "execution_count": 25,
   "id": "fec64af4",
   "metadata": {},
   "outputs": [
    {
     "name": "stdout",
     "output_type": "stream",
     "text": [
      "1\n",
      "2\n",
      "3\n",
      "4\n",
      "6\n",
      "7\n",
      "8\n",
      "9\n",
      "10\n"
     ]
    }
   ],
   "source": [
    "for number in range(1, 11):\n",
    "    if number == 5:\n",
    "        continue\n",
    "    print(number)"
   ]
  },
  {
   "cell_type": "markdown",
   "id": "8e2b7fa9",
   "metadata": {},
   "source": [
    "\n",
    "### Assignment 10: pass Statement\n",
    "\n",
    "Write a program that defines an empty function using the pass statement.\n"
   ]
  },
  {
   "cell_type": "code",
   "execution_count": 26,
   "id": "87450386",
   "metadata": {},
   "outputs": [],
   "source": [
    "def emptyfuntion():\n",
    "    pass"
   ]
  },
  {
   "cell_type": "markdown",
   "id": "69037a33",
   "metadata": {},
   "source": [
    "\n",
    "### Assignment 11: Combining Loops and Conditionals\n",
    "\n",
    "Write a program that asks the user to input a number and prints all the even numbers from 1 to that number using a for loop.\n"
   ]
  },
  {
   "cell_type": "code",
   "execution_count": 29,
   "id": "dc69c6cf",
   "metadata": {},
   "outputs": [
    {
     "name": "stdout",
     "output_type": "stream",
     "text": [
      "2\n",
      "4\n",
      "6\n",
      "8\n",
      "10\n",
      "12\n",
      "14\n",
      "16\n",
      "18\n",
      "20\n"
     ]
    }
   ],
   "source": [
    "number = int(input(\"Enter the number\"))\n",
    "\n",
    "for num in range(1, number+1):\n",
    "    if num % 2 == 0:\n",
    "        print(num)"
   ]
  },
  {
   "cell_type": "markdown",
   "id": "21659269",
   "metadata": {},
   "source": [
    "\n",
    "### Assignment 12: Factorial Calculation\n",
    "\n",
    "Write a program that calculates the factorial of a number input by the user using a while loop.\n"
   ]
  },
  {
   "cell_type": "code",
   "execution_count": 34,
   "id": "1c71b4eb",
   "metadata": {},
   "outputs": [
    {
     "name": "stdout",
     "output_type": "stream",
     "text": [
      "factorial of 6 is 720\n"
     ]
    }
   ],
   "source": [
    "number = int(input(\"Enter the number \"))\n",
    "temp = number\n",
    "fact = 1\n",
    "\n",
    "while number > 0:\n",
    "    fact *= number\n",
    "    number -= 1\n",
    "\n",
    "print(f\"factorial of {temp} is {fact}\")  "
   ]
  },
  {
   "cell_type": "markdown",
   "id": "55ca11c0",
   "metadata": {},
   "source": [
    "\n",
    "### Assignment 13: Sum of Digits\n",
    "\n",
    "Write a program that calculates the sum of the digits of a number input by the user using a while loop.\n"
   ]
  },
  {
   "cell_type": "code",
   "execution_count": 38,
   "id": "7c89f2da",
   "metadata": {},
   "outputs": [
    {
     "name": "stdout",
     "output_type": "stream",
     "text": [
      "15\n"
     ]
    }
   ],
   "source": [
    "number = int(input(\"Enter the number\"))\n",
    "sum = 0\n",
    "\n",
    "while number > 0:\n",
    "    rem = number % 10\n",
    "    sum += rem\n",
    "    number = number // 10\n",
    "\n",
    "print(sum)\n"
   ]
  },
  {
   "cell_type": "markdown",
   "id": "288e0bb8",
   "metadata": {},
   "source": [
    "\n",
    "### Assignment 14: Prime Number Check\n",
    "\n",
    "Write a program that checks if a number input by the user is a prime number using a for loop.\n"
   ]
  },
  {
   "cell_type": "code",
   "execution_count": 49,
   "id": "a80e9be2",
   "metadata": {},
   "outputs": [
    {
     "name": "stdout",
     "output_type": "stream",
     "text": [
      "5 is a prime number\n"
     ]
    }
   ],
   "source": [
    "number = int(input(\"Enter the number\"))\n",
    "\n",
    "if number <= 1:\n",
    "    print(f\"{number} is not a prime number\")\n",
    "else:\n",
    "    for i in range(2, number):\n",
    "        if number % i == 0:\n",
    "            print(f\"{number} is not a prime number\")\n",
    "            break\n",
    "    else:\n",
    "        print(f\"{number} is a prime number\")\n",
    "    "
   ]
  },
  {
   "cell_type": "markdown",
   "id": "01f910dd",
   "metadata": {},
   "source": [
    "\n",
    "### Assignment 15: Fibonacci Sequence\n",
    "\n",
    "Write a program that prints the first n Fibonacci numbers, where n is input by the user."
   ]
  },
  {
   "cell_type": "code",
   "execution_count": 53,
   "id": "vAUUndrFXiq8",
   "metadata": {
    "id": "vAUUndrFXiq8"
   },
   "outputs": [
    {
     "name": "stdout",
     "output_type": "stream",
     "text": [
      "0\n",
      "1\n",
      "1\n",
      "2\n",
      "3\n",
      "5\n",
      "8\n",
      "13\n",
      "21\n",
      "34\n",
      "55\n",
      "89\n"
     ]
    }
   ],
   "source": [
    "number = int(input(\"Enter the number\"))\n",
    "a = 0\n",
    "b = 1\n",
    "print(a)\n",
    "print(b)\n",
    "sum = a + b\n",
    "\n",
    "while sum < number:\n",
    "    print(sum)\n",
    "    a = b\n",
    "    b = sum\n",
    "    sum = a + b"
   ]
  }
 ],
 "metadata": {
  "colab": {
   "provenance": [
    {
     "file_id": "1xt1sdbKXHU_DQq2l4-MyXRqNcDJ-_naG",
     "timestamp": 1752639728586
    }
   ]
  },
  "kernelspec": {
   "display_name": "Python 3",
   "language": "python",
   "name": "python3"
  },
  "language_info": {
   "codemirror_mode": {
    "name": "ipython",
    "version": 3
   },
   "file_extension": ".py",
   "mimetype": "text/x-python",
   "name": "python",
   "nbconvert_exporter": "python",
   "pygments_lexer": "ipython3",
   "version": "3.13.3"
  }
 },
 "nbformat": 4,
 "nbformat_minor": 5
}
